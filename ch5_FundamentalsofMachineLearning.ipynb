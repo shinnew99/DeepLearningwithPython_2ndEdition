{
 "cells": [
  {
   "cell_type": "markdown",
   "id": "35abd9ab",
   "metadata": {},
   "source": [
    "## 5 머신러닝의 기본요소\n",
    "\n",
    "1 일반화:머신 러닝의 목표 <br>\n",
    "2 머신 러닝 모델 평가 <br>\n",
    "3 훈련 성능 향상하기 <br>\n",
    "4 일반화 성능 향상하기\n",
    "5 요약 <br><br>\n",
    "\n",
    "여기서는 정확한 모델평가의 중요성 및 훈련과 일반화 사이의 균형을 강조하면서 머신러닝에 대한 새로우 직관을 확고한 개념으로 정립 <br>\n",
    "\n",
    "\n",
    "### 5.1 일반화: 머신러닝의 목표\n",
    "\n",
    "머신러닝의 근본적인 이슈는 최적화와 일반화 사이의 줄다리기 <br>, \n",
    "- <b>최적화</b>는 가능한 훈련 데이터에서 최긔어 성능을 얻으려고 모델을 조정하는 과정(머신러닝에서 학습에 해당됨) <br>\n",
    "- <b>일반화</b>는 훈련된 모델이 이전에 본적 없는 데이터에서 얼마나 잘 수행되는지 의미, 목표는 좋은 일반화 성능을 얻는 것, 일반화 성능을 제어할 방법은 없음. 단지 모델을 훈련 데이터에 맞출 수만 있음. <br>\n",
    "\n",
    "#### 5.1.1 과소적합과 과대적합\n",
    "- <b>과소적합</b>은 훈련 데이터의 손실이 낮아질수록 테스트 데이터의 손실도 낮아짐, 즉, 네트워크가 훈련 데이터에 있는 모든 관련 패턴을 학습하지 못했음 <br>\n",
    "- But, 훈련 데이터에서 훈련을 특정 횟수만큼 반복하고 난 후에는 일반화 성능이 더 이상 높아지지 않으며 검증 세트의 성능이 멈추고 감소되기 시작함 <br>\n",
    "\n",
    "- <b>잡은 섞인 훈련 데이터</b> <br>: 모델을 이상치에 맞추려고 하면 일반화 성능이 감소됨\n",
    "- <b>불확실한 특성</b> <br>:\n",
    "- <b>드문 특성과 가짜 상관관계</b> <br>: 가짜 상관관계를 만들어 내는 데 특성 값이 몇번만 등장할 필요가 없다는 것.\n",
    "\n",
    "#### 5-1 MNIST에 백색 잡음 픽셀과 0픽셀 추가하기"
   ]
  },
  {
   "cell_type": "code",
   "execution_count": 1,
   "id": "3d5511cf",
   "metadata": {},
   "outputs": [],
   "source": [
    "from tensorflow.keras.datasets import mnist\n",
    "import numpy as np\n",
    "\n",
    "(train_images, train_labels), _ = mnist.load_data()\n",
    "train_images = train_images.reshape((60000, 28*28))\n",
    "train_images = train_images.astype(\"float32\")/255\n",
    "train_images_with_noise_channels = np.concatenate([train_images, np.random.random((len(train_images), 784))], axis=1)\n",
    "train_images_with_zeros_channels = np.concatenate([train_images, np.zeros((len(train_images), 784))], axis=1)"
   ]
  },
  {
   "cell_type": "markdown",
   "id": "2f0e2512",
   "metadata": {},
   "source": [
    "#### 코드 5-2 백색 잡음과 0을 추가한 MNIST 데이터에서 모델 훈련하기"
   ]
  },
  {
   "cell_type": "code",
   "execution_count": 2,
   "id": "d15abe5a",
   "metadata": {},
   "outputs": [
    {
     "name": "stdout",
     "output_type": "stream",
     "text": [
      "Epoch 1/10\n",
      "375/375 [==============================] - 13s 32ms/step - loss: 0.6244 - accuracy: 0.8087 - val_loss: 0.3080 - val_accuracy: 0.9045\n",
      "Epoch 2/10\n",
      "375/375 [==============================] - 12s 31ms/step - loss: 0.2589 - accuracy: 0.9197 - val_loss: 0.2052 - val_accuracy: 0.9409\n",
      "Epoch 3/10\n",
      "375/375 [==============================] - 12s 31ms/step - loss: 0.1658 - accuracy: 0.9490 - val_loss: 0.1649 - val_accuracy: 0.9517\n",
      "Epoch 4/10\n",
      "375/375 [==============================] - 12s 31ms/step - loss: 0.1167 - accuracy: 0.9641 - val_loss: 0.1738 - val_accuracy: 0.9502\n",
      "Epoch 5/10\n",
      "375/375 [==============================] - 12s 31ms/step - loss: 0.0887 - accuracy: 0.9729 - val_loss: 0.1304 - val_accuracy: 0.9632\n",
      "Epoch 6/10\n",
      "375/375 [==============================] - 12s 32ms/step - loss: 0.0655 - accuracy: 0.9785 - val_loss: 0.1751 - val_accuracy: 0.9529\n",
      "Epoch 7/10\n",
      "375/375 [==============================] - 12s 31ms/step - loss: 0.0483 - accuracy: 0.9845 - val_loss: 0.1177 - val_accuracy: 0.9683\n",
      "Epoch 8/10\n",
      "375/375 [==============================] - 12s 31ms/step - loss: 0.0355 - accuracy: 0.9886 - val_loss: 0.1213 - val_accuracy: 0.9687\n",
      "Epoch 9/10\n",
      "375/375 [==============================] - 12s 32ms/step - loss: 0.0277 - accuracy: 0.9912 - val_loss: 0.1278 - val_accuracy: 0.9689\n",
      "Epoch 10/10\n",
      "375/375 [==============================] - 12s 31ms/step - loss: 0.0227 - accuracy: 0.9927 - val_loss: 0.1323 - val_accuracy: 0.9695\n"
     ]
    }
   ],
   "source": [
    "from tensorflow import keras\n",
    "from tensorflow.keras import layers\n",
    "\n",
    "def get_model():\n",
    "    model = keras.Sequential([\n",
    "        layers.Dense(512, activation=\"relu\"),\n",
    "        layers.Dense(512, activation=\"softmax\")\n",
    "    ])\n",
    "    model.compile(optimizer=\"rmsprop\",\n",
    "                 loss=\"sparse_categorical_crossentropy\",\n",
    "                 metrics=[\"accuracy\"])\n",
    "    return model\n",
    "\n",
    "model = get_model()\n",
    "history_noise = model.fit(\n",
    "    train_images_with_noise_channels, train_labels,\n",
    "    epochs=10,\n",
    "    batch_size=128,\n",
    "    validation_split=0.2\n",
    ")"
   ]
  },
  {
   "cell_type": "markdown",
   "id": "941e6aa8",
   "metadata": {},
   "source": [
    "#### 코드 5-3 검증 정확도 비교 그래프 그리기"
   ]
  },
  {
   "cell_type": "code",
   "execution_count": 3,
   "id": "ce982d5d",
   "metadata": {},
   "outputs": [
    {
     "data": {
      "image/png": "[encoded data removed]",
      "text/plain": [
       "<Figure size 432x288 with 1 Axes>"
      ]
     },
     "metadata": {
      "needs_background": "light"
     },
     "output_type": "display_data"
    }
   ],
   "source": [
    "import matplotlib.pyplot as plt\n",
    "\n",
    "val_acc_noise = history_noise.history[\"val_accuracy\"]\n",
    "val_acc_zeros = history_noise.history[\"val_accuracy\"]\n",
    "epochs = range(1, 11)\n",
    "plt.plot(epochs, val_acc_noise, \"b--\",\n",
    "        label = \"Validation accuracy with noise channels\")\n",
    "plt.plot(epochs, val_acc_zeros, \"b--\",\n",
    "        label = \"Validation accuracy with zeros channels\")\n",
    "plt.xlabel(\"Epochs\")\n",
    "plt.ylabel(\"Accuracy\")\n",
    "plt.legend()\n",
    "plt.show()\n",
    "\n",
    "# 잡음을 더 많이 섞을수록 정확도는 더 감소, 잡음 특성은 필연적으로 과대적합을 유발시킴\n",
    "# 특성 선택을 수행하는 것이 일반적, 특선 선택을 하는 일반적인 방법은 가용한 각 특성에 대해 어떤 유용성 점수를 계산하는 것\n",
    "# 즉, 특성과 레이블 사이의 상호 의존 정보(mutual information)처럼 작업에 대해 특성이 얼마나 유익한지 측정\n",
    "# 그다음 임계값을 넘긴 특성만 사용 "
   ]
  },
  {
   "cell_type": "markdown",
   "id": "e7b5228d",
   "metadata": {},
   "source": [
    "#### 코드 5-4 랜덤하게 섞은 레이블로 MNIST 모델 훈련하기"
   ]
  },
  {
   "cell_type": "code",
   "execution_count": 4,
   "id": "1336a7fe",
   "metadata": {},
   "outputs": [
    {
     "name": "stdout",
     "output_type": "stream",
     "text": [
      "Epoch 1/100\n",
      "375/375 [==============================] - 8s 21ms/step - loss: 2.3866 - accuracy: 0.1018 - val_loss: 2.3258 - val_accuracy: 0.0998\n",
      "Epoch 2/100\n",
      "375/375 [==============================] - 8s 20ms/step - loss: 2.3090 - accuracy: 0.1118 - val_loss: 2.3154 - val_accuracy: 0.1061\n",
      "Epoch 3/100\n",
      "375/375 [==============================] - 8s 21ms/step - loss: 2.2961 - accuracy: 0.1244 - val_loss: 2.3227 - val_accuracy: 0.0984\n",
      "Epoch 4/100\n",
      "375/375 [==============================] - 8s 20ms/step - loss: 2.2842 - accuracy: 0.1353 - val_loss: 2.3241 - val_accuracy: 0.1013\n",
      "Epoch 5/100\n",
      "375/375 [==============================] - 8s 20ms/step - loss: 2.2684 - accuracy: 0.1485 - val_loss: 2.3319 - val_accuracy: 0.1016\n",
      "Epoch 6/100\n",
      "375/375 [==============================] - 8s 21ms/step - loss: 2.2495 - accuracy: 0.1623 - val_loss: 2.3479 - val_accuracy: 0.1022\n",
      "Epoch 7/100\n",
      "375/375 [==============================] - 8s 20ms/step - loss: 2.2267 - accuracy: 0.1785 - val_loss: 2.3616 - val_accuracy: 0.0953\n",
      "Epoch 8/100\n",
      "375/375 [==============================] - 8s 21ms/step - loss: 2.1996 - accuracy: 0.1939 - val_loss: 2.3699 - val_accuracy: 0.1022\n",
      "Epoch 9/100\n",
      "375/375 [==============================] - 8s 20ms/step - loss: 2.1706 - accuracy: 0.2076 - val_loss: 2.3925 - val_accuracy: 0.1015\n",
      "Epoch 10/100\n",
      "375/375 [==============================] - 8s 20ms/step - loss: 2.1398 - accuracy: 0.2271 - val_loss: 2.4160 - val_accuracy: 0.1010\n",
      "Epoch 11/100\n",
      "375/375 [==============================] - 8s 21ms/step - loss: 2.1072 - accuracy: 0.2402 - val_loss: 2.4514 - val_accuracy: 0.0994\n",
      "Epoch 12/100\n",
      "375/375 [==============================] - 8s 21ms/step - loss: 2.0721 - accuracy: 0.2581 - val_loss: 2.4724 - val_accuracy: 0.1041\n",
      "Epoch 13/100\n",
      "375/375 [==============================] - 8s 22ms/step - loss: 2.0365 - accuracy: 0.2741 - val_loss: 2.4978 - val_accuracy: 0.1013\n",
      "Epoch 14/100\n",
      "375/375 [==============================] - 8s 20ms/step - loss: 2.0015 - accuracy: 0.2887 - val_loss: 2.5330 - val_accuracy: 0.1049\n",
      "Epoch 15/100\n",
      "375/375 [==============================] - 8s 20ms/step - loss: 1.9672 - accuracy: 0.3037 - val_loss: 2.5576 - val_accuracy: 0.1053\n",
      "Epoch 16/100\n",
      "375/375 [==============================] - 8s 21ms/step - loss: 1.9324 - accuracy: 0.3174 - val_loss: 2.5804 - val_accuracy: 0.0972\n",
      "Epoch 17/100\n",
      "375/375 [==============================] - 8s 20ms/step - loss: 1.8958 - accuracy: 0.3312 - val_loss: 2.6194 - val_accuracy: 0.0965\n",
      "Epoch 18/100\n",
      "375/375 [==============================] - 8s 20ms/step - loss: 1.8635 - accuracy: 0.3451 - val_loss: 2.6409 - val_accuracy: 0.0994\n",
      "Epoch 19/100\n",
      "375/375 [==============================] - 8s 21ms/step - loss: 1.8277 - accuracy: 0.3602 - val_loss: 2.6866 - val_accuracy: 0.1036\n",
      "Epoch 20/100\n",
      "375/375 [==============================] - 8s 20ms/step - loss: 1.7945 - accuracy: 0.3735 - val_loss: 2.7159 - val_accuracy: 0.0986\n",
      "Epoch 21/100\n",
      "375/375 [==============================] - 8s 21ms/step - loss: 1.7604 - accuracy: 0.3885 - val_loss: 2.7698 - val_accuracy: 0.1032\n",
      "Epoch 22/100\n",
      "375/375 [==============================] - 8s 20ms/step - loss: 1.7261 - accuracy: 0.4007 - val_loss: 2.7934 - val_accuracy: 0.0995\n",
      "Epoch 23/100\n",
      "375/375 [==============================] - 8s 21ms/step - loss: 1.6951 - accuracy: 0.4117 - val_loss: 2.8289 - val_accuracy: 0.1002\n",
      "Epoch 24/100\n",
      "375/375 [==============================] - 8s 21ms/step - loss: 1.6629 - accuracy: 0.4246 - val_loss: 2.8865 - val_accuracy: 0.0987\n",
      "Epoch 25/100\n",
      "375/375 [==============================] - 8s 21ms/step - loss: 1.6320 - accuracy: 0.4345 - val_loss: 2.9334 - val_accuracy: 0.1010\n",
      "Epoch 26/100\n",
      "375/375 [==============================] - 8s 21ms/step - loss: 1.6018 - accuracy: 0.4473 - val_loss: 2.9764 - val_accuracy: 0.0962\n",
      "Epoch 27/100\n",
      "375/375 [==============================] - 8s 21ms/step - loss: 1.5719 - accuracy: 0.4618 - val_loss: 3.0044 - val_accuracy: 0.0995\n",
      "Epoch 28/100\n",
      "375/375 [==============================] - 8s 21ms/step - loss: 1.5433 - accuracy: 0.4712 - val_loss: 3.0515 - val_accuracy: 0.0982\n",
      "Epoch 29/100\n",
      "375/375 [==============================] - 8s 21ms/step - loss: 1.5148 - accuracy: 0.4827 - val_loss: 3.1042 - val_accuracy: 0.1008\n",
      "Epoch 30/100\n",
      "375/375 [==============================] - 8s 20ms/step - loss: 1.4883 - accuracy: 0.4908 - val_loss: 3.1608 - val_accuracy: 0.0994\n",
      "Epoch 31/100\n",
      "375/375 [==============================] - 8s 20ms/step - loss: 1.4592 - accuracy: 0.5019 - val_loss: 3.1979 - val_accuracy: 0.1005\n",
      "Epoch 32/100\n",
      "375/375 [==============================] - 8s 22ms/step - loss: 1.4338 - accuracy: 0.5096 - val_loss: 3.2526 - val_accuracy: 0.0988\n",
      "Epoch 33/100\n",
      "375/375 [==============================] - 8s 21ms/step - loss: 1.4075 - accuracy: 0.5191 - val_loss: 3.2825 - val_accuracy: 0.0996\n",
      "Epoch 34/100\n",
      "375/375 [==============================] - 8s 20ms/step - loss: 1.3819 - accuracy: 0.5304 - val_loss: 3.3257 - val_accuracy: 0.0965\n",
      "Epoch 35/100\n",
      "375/375 [==============================] - 8s 20ms/step - loss: 1.3578 - accuracy: 0.5384 - val_loss: 3.3617 - val_accuracy: 0.0983\n",
      "Epoch 36/100\n",
      "375/375 [==============================] - 8s 21ms/step - loss: 1.3339 - accuracy: 0.5495 - val_loss: 3.4327 - val_accuracy: 0.0979\n",
      "Epoch 37/100\n",
      "375/375 [==============================] - 8s 20ms/step - loss: 1.3109 - accuracy: 0.5561 - val_loss: 3.4771 - val_accuracy: 0.1012\n",
      "Epoch 38/100\n",
      "375/375 [==============================] - 8s 20ms/step - loss: 1.2874 - accuracy: 0.5655 - val_loss: 3.5161 - val_accuracy: 0.1053\n",
      "Epoch 39/100\n",
      "375/375 [==============================] - 8s 20ms/step - loss: 1.2651 - accuracy: 0.5708 - val_loss: 3.5821 - val_accuracy: 0.1028\n",
      "Epoch 40/100\n",
      "375/375 [==============================] - 8s 20ms/step - loss: 1.2435 - accuracy: 0.5796 - val_loss: 3.6117 - val_accuracy: 0.0988\n",
      "Epoch 41/100\n",
      "375/375 [==============================] - 8s 20ms/step - loss: 1.2210 - accuracy: 0.5883 - val_loss: 3.6723 - val_accuracy: 0.1028\n",
      "Epoch 42/100\n",
      "375/375 [==============================] - 8s 20ms/step - loss: 1.2009 - accuracy: 0.5938 - val_loss: 3.7543 - val_accuracy: 0.1011\n",
      "Epoch 43/100\n",
      "375/375 [==============================] - 8s 20ms/step - loss: 1.1791 - accuracy: 0.6046 - val_loss: 3.7597 - val_accuracy: 0.1030\n",
      "Epoch 44/100\n",
      "375/375 [==============================] - 8s 20ms/step - loss: 1.1580 - accuracy: 0.6100 - val_loss: 3.8399 - val_accuracy: 0.1018\n",
      "Epoch 45/100\n",
      "375/375 [==============================] - 8s 20ms/step - loss: 1.1399 - accuracy: 0.6180 - val_loss: 3.8835 - val_accuracy: 0.0968\n",
      "Epoch 46/100\n",
      "375/375 [==============================] - 7s 20ms/step - loss: 1.1213 - accuracy: 0.6272 - val_loss: 3.9367 - val_accuracy: 0.1013\n",
      "Epoch 47/100\n",
      "375/375 [==============================] - 8s 20ms/step - loss: 1.1001 - accuracy: 0.6333 - val_loss: 4.0077 - val_accuracy: 0.0979\n",
      "Epoch 48/100\n",
      "375/375 [==============================] - 7s 20ms/step - loss: 1.0817 - accuracy: 0.6359 - val_loss: 4.0418 - val_accuracy: 0.0997\n",
      "Epoch 49/100\n",
      "375/375 [==============================] - 8s 20ms/step - loss: 1.0646 - accuracy: 0.6447 - val_loss: 4.1097 - val_accuracy: 0.0984\n",
      "Epoch 50/100\n",
      "375/375 [==============================] - 8s 20ms/step - loss: 1.0469 - accuracy: 0.6510 - val_loss: 4.1856 - val_accuracy: 0.1005\n",
      "Epoch 51/100\n",
      "375/375 [==============================] - 8s 20ms/step - loss: 1.0274 - accuracy: 0.6576 - val_loss: 4.2166 - val_accuracy: 0.0961\n",
      "Epoch 52/100\n",
      "375/375 [==============================] - 8s 20ms/step - loss: 1.0103 - accuracy: 0.6626 - val_loss: 4.2615 - val_accuracy: 0.0989\n",
      "Epoch 53/100\n",
      "375/375 [==============================] - 8s 22ms/step - loss: 0.9937 - accuracy: 0.6690 - val_loss: 4.3129 - val_accuracy: 0.0983\n",
      "Epoch 54/100\n",
      "375/375 [==============================] - 7s 20ms/step - loss: 0.9772 - accuracy: 0.6760 - val_loss: 4.3691 - val_accuracy: 0.1008\n",
      "Epoch 55/100\n",
      "375/375 [==============================] - 8s 20ms/step - loss: 0.9619 - accuracy: 0.6801 - val_loss: 4.4699 - val_accuracy: 0.0971\n",
      "Epoch 56/100\n",
      "375/375 [==============================] - 8s 20ms/step - loss: 0.9444 - accuracy: 0.6871 - val_loss: 4.4733 - val_accuracy: 0.1008\n",
      "Epoch 57/100\n",
      "375/375 [==============================] - 8s 20ms/step - loss: 0.9281 - accuracy: 0.6924 - val_loss: 4.5773 - val_accuracy: 0.0997\n",
      "Epoch 58/100\n",
      "375/375 [==============================] - 8s 20ms/step - loss: 0.9133 - accuracy: 0.6980 - val_loss: 4.6081 - val_accuracy: 0.1020\n",
      "Epoch 59/100\n",
      "375/375 [==============================] - 8s 20ms/step - loss: 0.8974 - accuracy: 0.7027 - val_loss: 4.6462 - val_accuracy: 0.0980\n",
      "Epoch 60/100\n",
      "375/375 [==============================] - 8s 20ms/step - loss: 0.8841 - accuracy: 0.7088 - val_loss: 4.7049 - val_accuracy: 0.1006\n",
      "Epoch 61/100\n",
      "375/375 [==============================] - 7s 20ms/step - loss: 0.8701 - accuracy: 0.7150 - val_loss: 4.7959 - val_accuracy: 0.1014\n",
      "Epoch 62/100\n",
      "375/375 [==============================] - 7s 20ms/step - loss: 0.8551 - accuracy: 0.7170 - val_loss: 4.8681 - val_accuracy: 0.1034\n",
      "Epoch 63/100\n",
      "375/375 [==============================] - 8s 20ms/step - loss: 0.8422 - accuracy: 0.7200 - val_loss: 4.9220 - val_accuracy: 0.0987\n",
      "Epoch 64/100\n",
      "375/375 [==============================] - 7s 20ms/step - loss: 0.8272 - accuracy: 0.7290 - val_loss: 4.9873 - val_accuracy: 0.1014\n",
      "Epoch 65/100\n",
      "375/375 [==============================] - 8s 20ms/step - loss: 0.8132 - accuracy: 0.7334 - val_loss: 5.0179 - val_accuracy: 0.0999\n",
      "Epoch 66/100\n",
      "375/375 [==============================] - 8s 20ms/step - loss: 0.7995 - accuracy: 0.7368 - val_loss: 5.0810 - val_accuracy: 0.1009\n",
      "Epoch 67/100\n",
      "375/375 [==============================] - 8s 20ms/step - loss: 0.7857 - accuracy: 0.7427 - val_loss: 5.1954 - val_accuracy: 0.1020\n",
      "Epoch 68/100\n",
      "375/375 [==============================] - 8s 20ms/step - loss: 0.7723 - accuracy: 0.7473 - val_loss: 5.2566 - val_accuracy: 0.0978\n",
      "Epoch 69/100\n",
      "375/375 [==============================] - 8s 20ms/step - loss: 0.7612 - accuracy: 0.7516 - val_loss: 5.3045 - val_accuracy: 0.1014\n",
      "Epoch 70/100\n",
      "375/375 [==============================] - 8s 20ms/step - loss: 0.7475 - accuracy: 0.7552 - val_loss: 5.3457 - val_accuracy: 0.1004\n",
      "Epoch 71/100\n",
      "375/375 [==============================] - 8s 20ms/step - loss: 0.7377 - accuracy: 0.7584 - val_loss: 5.4430 - val_accuracy: 0.1013\n",
      "Epoch 72/100\n",
      "375/375 [==============================] - 8s 20ms/step - loss: 0.7266 - accuracy: 0.7629 - val_loss: 5.4535 - val_accuracy: 0.1021\n",
      "Epoch 73/100\n",
      "375/375 [==============================] - 8s 20ms/step - loss: 0.7132 - accuracy: 0.7662 - val_loss: 5.5493 - val_accuracy: 0.0975\n",
      "Epoch 74/100\n",
      "375/375 [==============================] - 8s 21ms/step - loss: 0.7017 - accuracy: 0.7706 - val_loss: 5.5827 - val_accuracy: 0.1022\n",
      "Epoch 75/100\n",
      "375/375 [==============================] - 7s 20ms/step - loss: 0.6913 - accuracy: 0.7771 - val_loss: 5.6711 - val_accuracy: 0.1013\n",
      "Epoch 76/100\n",
      "375/375 [==============================] - 8s 21ms/step - loss: 0.6780 - accuracy: 0.7789 - val_loss: 5.7575 - val_accuracy: 0.0997\n",
      "Epoch 77/100\n",
      "375/375 [==============================] - 7s 20ms/step - loss: 0.6693 - accuracy: 0.7811 - val_loss: 5.8103 - val_accuracy: 0.1013\n",
      "Epoch 78/100\n",
      "375/375 [==============================] - 8s 20ms/step - loss: 0.6554 - accuracy: 0.7886 - val_loss: 5.8540 - val_accuracy: 0.0999\n",
      "Epoch 79/100\n",
      "375/375 [==============================] - 8s 20ms/step - loss: 0.6473 - accuracy: 0.7873 - val_loss: 5.9162 - val_accuracy: 0.1010\n",
      "Epoch 80/100\n",
      "375/375 [==============================] - 8s 20ms/step - loss: 0.6345 - accuracy: 0.7938 - val_loss: 6.0165 - val_accuracy: 0.1017\n",
      "Epoch 81/100\n",
      "375/375 [==============================] - 8s 20ms/step - loss: 0.6265 - accuracy: 0.7978 - val_loss: 6.0534 - val_accuracy: 0.1004\n",
      "Epoch 82/100\n",
      "375/375 [==============================] - 8s 20ms/step - loss: 0.6159 - accuracy: 0.8004 - val_loss: 6.1814 - val_accuracy: 0.1031\n",
      "Epoch 83/100\n",
      "375/375 [==============================] - 8s 20ms/step - loss: 0.6085 - accuracy: 0.8025 - val_loss: 6.2512 - val_accuracy: 0.0987\n",
      "Epoch 84/100\n",
      "375/375 [==============================] - 8s 20ms/step - loss: 0.5951 - accuracy: 0.8071 - val_loss: 6.2914 - val_accuracy: 0.1001\n",
      "Epoch 85/100\n",
      "375/375 [==============================] - 8s 20ms/step - loss: 0.5875 - accuracy: 0.8103 - val_loss: 6.3408 - val_accuracy: 0.1031\n",
      "Epoch 86/100\n",
      "375/375 [==============================] - 8s 20ms/step - loss: 0.5792 - accuracy: 0.8122 - val_loss: 6.4012 - val_accuracy: 0.0987\n",
      "Epoch 87/100\n",
      "375/375 [==============================] - 8s 20ms/step - loss: 0.5697 - accuracy: 0.8147 - val_loss: 6.4928 - val_accuracy: 0.1007\n",
      "Epoch 88/100\n",
      "375/375 [==============================] - 8s 20ms/step - loss: 0.5605 - accuracy: 0.8200 - val_loss: 6.5391 - val_accuracy: 0.1013\n",
      "Epoch 89/100\n",
      "375/375 [==============================] - 8s 21ms/step - loss: 0.5502 - accuracy: 0.8227 - val_loss: 6.6248 - val_accuracy: 0.0994\n",
      "Epoch 90/100\n",
      "375/375 [==============================] - 8s 20ms/step - loss: 0.5411 - accuracy: 0.8254 - val_loss: 6.6709 - val_accuracy: 0.1025\n",
      "Epoch 91/100\n",
      "375/375 [==============================] - 8s 20ms/step - loss: 0.5314 - accuracy: 0.8269 - val_loss: 6.7568 - val_accuracy: 0.1008\n",
      "Epoch 92/100\n",
      "375/375 [==============================] - 8s 20ms/step - loss: 0.5251 - accuracy: 0.8324 - val_loss: 6.8509 - val_accuracy: 0.1013\n",
      "Epoch 93/100\n",
      "375/375 [==============================] - 7s 20ms/step - loss: 0.5153 - accuracy: 0.8357 - val_loss: 6.9109 - val_accuracy: 0.0959\n",
      "Epoch 94/100\n",
      "375/375 [==============================] - 8s 20ms/step - loss: 0.5100 - accuracy: 0.8378 - val_loss: 7.0117 - val_accuracy: 0.0962\n",
      "Epoch 95/100\n",
      "375/375 [==============================] - 8s 20ms/step - loss: 0.4998 - accuracy: 0.8391 - val_loss: 7.0376 - val_accuracy: 0.0979\n",
      "Epoch 96/100\n",
      "375/375 [==============================] - 8s 20ms/step - loss: 0.4927 - accuracy: 0.8417 - val_loss: 7.0665 - val_accuracy: 0.0996\n",
      "Epoch 97/100\n",
      "375/375 [==============================] - 8s 20ms/step - loss: 0.4845 - accuracy: 0.8466 - val_loss: 7.1385 - val_accuracy: 0.0957\n",
      "Epoch 98/100\n",
      "375/375 [==============================] - 8s 20ms/step - loss: 0.4763 - accuracy: 0.8471 - val_loss: 7.2250 - val_accuracy: 0.1004\n",
      "Epoch 99/100\n",
      "375/375 [==============================] - 8s 20ms/step - loss: 0.4672 - accuracy: 0.8516 - val_loss: 7.3178 - val_accuracy: 0.0997\n",
      "Epoch 100/100\n",
      "375/375 [==============================] - 8s 21ms/step - loss: 0.4628 - accuracy: 0.8530 - val_loss: 7.3954 - val_accuracy: 0.0972\n"
     ]
    },
    {
     "data": {
      "text/plain": [
       "<keras.callbacks.History at 0x7f2249973e20>"
      ]
     },
     "execution_count": 4,
     "metadata": {},
     "output_type": "execute_result"
    }
   ],
   "source": [
    "(train_images, train_labels), _ = mnist.load_data()\n",
    "train_images = train_images.reshape((60000, 28*28))\n",
    "train_images = train_images.astype(\"float32\")/255\n",
    "\n",
    "random_train_labels = train_labels[:]\n",
    "np.random.shuffle(random_train_labels)\n",
    "\n",
    "model = keras.Sequential([\n",
    "    layers.Dense(512, activation='relu'),\n",
    "    layers.Dense(512, activation='softmax')\n",
    "])\n",
    "\n",
    "model.compile(optimizer=\"rmsprop\",\n",
    "             loss=\"sparse_categorical_crossentropy\",\n",
    "             metrics=[\"accuracy\"])\n",
    "model.fit(train_images, random_train_labels,\n",
    "         epochs=100,\n",
    "         batch_size=128,\n",
    "         validation_split=0.2)"
   ]
  },
  {
   "cell_type": "markdown",
   "id": "3219742e",
   "metadata": {},
   "source": [
    "<b>매니폴드 가설</b>은 실제 세상의 모든 데이터가 (이 데이터가 인코딩된) 고차원 공간안에 있는 저차원 매니폴드에 놓여있다고 가정 <br><br>\n",
    "- 머신러닝 모델은 가능한 입력 공간안에서 비교적 간단하고, 저차원이며, 매우 조저직은 부분공간만 학습하면 된다.<br>\n",
    "- 하나 안에서 두 입력 사이를 보간(interpolation)하는 것이 항상 가능함, 즉, 연속적인 경로를 따라 한 입력에서 다른 입력으로 변형할 때 모든 모인트가 이 매니폴드에 속함 <br>"
   ]
  },
  {
   "cell_type": "code",
   "execution_count": null,
   "id": "451d16f1",
   "metadata": {},
   "outputs": [],
   "source": []
  },
  {
   "cell_type": "code",
   "execution_count": null,
   "id": "ef5f45c0",
   "metadata": {},
   "outputs": [],
   "source": []
  },
  {
   "cell_type": "markdown",
   "id": "3625026b",
   "metadata": {},
   "source": [
    "#### 코드 5-5 홀드아웃 검증 구현 예"
   ]
  },
  {
   "cell_type": "code",
   "execution_count": null,
   "id": "fa375578",
   "metadata": {},
   "outputs": [],
   "source": [
    "num_validation_samples = 10000\n",
    "np.random.shuffle(data)  # 일반적으로 데이터를 섞는것이 좋다\n",
    "validation_data = data[:num_validation_samples]  # 검증 세트를 만든다.\n",
    "training_data = data[num_validation_samples:]  # 훈련 세트를 만든다.\n",
    "model = get_model()\n",
    "model.fit(training_data, ...)\n",
    "vlidation_score = model.evaluate(validation_data, ...)\n",
    "model = get_model()\n",
    "model.fit(np.concatenate([training_data, validation_data]), ...)\n",
    "test_score = model.evaluate(test_data, ...)\n",
    "\n",
    "# 단점: 데이터가 적ㅇ르떄는 검증 세트와 테스트 세트의 샘플이 너무 적어 주어진 전체 데이터를 통계적으로 대표하지 못함"
   ]
  },
  {
   "cell_type": "markdown",
   "id": "de7d31a0",
   "metadata": {},
   "source": [
    "#### K-fold 교차 검증\n",
    "\n",
    "동일한 크기를 가진 K개의 분할로 나눔 <br>\n",
    "↓ <br>\n",
    "각 분할 i에 대해 남은 K-1개의 분할로 모델을 훈련하고 분할 i에서 모델을 평가 <br> \n",
    "↓ <br>\n",
    "최종 점수는 이렇게 얻은 K개의 점수를 평균 <br><br>\n",
    "\n",
    "\n",
    "#### 코드 5-6 K-겹 교차 검증 구현 예"
   ]
  },
  {
   "cell_type": "code",
   "execution_count": null,
   "id": "dfb3d044",
   "metadata": {},
   "outputs": [],
   "source": [
    "k = 3\n",
    "num_validation_samples = len(data)//k\n",
    "np.random.shuffle(data)\n",
    "validation_scores =[]\n",
    "for fold in range(k):\n",
    "    validation_data = data[num_validation_samples*fold:\n",
    "                        num_validation_samples*(fold+1)]\n",
    "    training_data = np.concatenate(\n",
    "                    data[:num_validation_sampels*fold],\n",
    "                    data[:num_validation_sampels*(fold+1):])\n",
    "    model = get_model() # 훈련되지 않은 새로운 모델을 만듦\n",
    "    model.fit(training_data, ...)\n",
    "    validation_score = model.evaluate(validation_data, ...)\n",
    "    validation_scores.append(validation_data)\n",
    "validation_score = np.average(validation_scores)  # 검증점수: K개의 폴드 검증 점수 평균\n",
    "model = get_model() # 테스트 데이터를 제외한 전체 데이터로 최종 모델을 훈련\n",
    "model.fit(data, ...)\n",
    "test_score = model.evaluate(etst_data, ...)"
   ]
  },
  {
   "cell_type": "markdown",
   "id": "cdf81874",
   "metadata": {},
   "source": [
    "#### 셔플링을 사용한 반복 K-겹 교차 검증\n",
    "\n",
    "- 비교적 가용 데이터가 적고 가능한 정확하게 모델을 평가하고자 할떄 사용 <br>\n",
    "- K-겹 교차 검증을 여러 번 적용하되 K개의 분할로 나누기 전에 매전 데이터를 무작위로 섞음 <br>\n",
    "- 최종 점수는 모든 K-겹 교차 검증을 실행해서 얻은 점수의 평균 <br>\n",
    "- 결국 P*K개(P는 반복횟수)의 모델을 훈련하고 평가하므로 비용이 매우 많이 든다 <br>"
   ]
  },
  {
   "cell_type": "markdown",
   "id": "ed7e0669",
   "metadata": {},
   "source": [
    "### 5.2.2 상식 수준의 기준점 넘기\n",
    "\n",
    "항상 넘어야 할 간단한 기준점을 정해야 한다. \n",
    "\n",
    "\n",
    "### 5.2.3 모델 평가에 대해 유념해야할 점\n",
    "- 대표성 있는 데이터: 훈련세트에는 0~7 숫자만 담겨 있고 테스트 세트에는 8~9 숫자만 담기게 될 수도 있기 떄문에 훈련세트와 테스트 세트로 나누기 전에 데이터를 무작위로 섞는것이 일반적이다 <br>\n",
    "- 시간의 방향: 무작위로 섞어서는 절대 안된다, 미래의 정보가 누설되기 때문에. 이런 문제에서는 훈련 세트에 있는 데이터보다 테스트 세트에 있는 모든 데이터가 미래의 것이어야 한다. <br>\n",
    "- 데이터 중복: 절대 안됨 <br>\n",
    "\n",
    "## 5.3 훈련 성능 향상하기\n",
    "\n",
    "최적적합 모델을 얻으려면 먼저 과대적합되어야 한다, 이 경계가 어디인지 미리 알지 못하기 때문에 경계를 찾으려면 넘어가 봐야한다, => 이 문제를 다루기 시작할 때 초기 목표는 약간의 일반화 능력을 보이고 과대적합할 수 있는 모델을 얻는 것이다. <br>\n",
    "이 때 발생할수 있는 문제 3가지: <br>\n",
    "1. 훈련이 되지 않는다: 시간이 지나도 훈련 손실이 줄어들지 않는다. <br>\n",
    "2. 훈련은 잘 시작되었지만 모델이 의미 있는 일반화를 달성하지 못한다: 상식 수준의 기준점을 넘어설 수 없다. <br>\n",
    "3. 시간이 지남에 따라 훈련과 검증 손실이 모두 줄어들고 기준점을 넘어설 수 있지만 과데적합되지 않을 것 같다. 여전히 과소적합 상태 <br>\n",
    "\n",
    "=> 이를 해결하기 위해 1번째 큰 이정표(상식 수준의 기준점을 넘을 수 있어 약간의 일반화 능력이 있고 과대적합할 수 있는 모델을 얻는 것)를 달성하는 방법을 알아겠음 <br><br>\n",
    "\n",
    "### 5.3.1 경사하강법의 핵심 파라미터 튜닝하기\n",
    "\n",
    "훈련이 시작되지 않거나 너무 일찍 중단됨, 손실도 멈춰 있음 => 랜덤한 데이터에서도 모델을 훈련할 수 있다! <br>\n",
    "\n",
    "- 옵티마이저 선택, 모델 가중치의 초깃값 분포, 학습률 ,배치크기 => 이 모든 파라미터는 상호 의존적이다. <br><br>\n",
    "\n",
    "\n",
    "#### 코드 5-7 잘못된 높은 학습률로 MNIST 모델 훈련하기"
   ]
  },
  {
   "cell_type": "code",
   "execution_count": 5,
   "id": "30ed4e47",
   "metadata": {},
   "outputs": [
    {
     "name": "stdout",
     "output_type": "stream",
     "text": [
      "Epoch 1/10\n",
      "375/375 [==============================] - 8s 21ms/step - loss: 323.6319 - accuracy: 0.2905 - val_loss: 2.3413 - val_accuracy: 0.2395\n",
      "Epoch 2/10\n",
      "375/375 [==============================] - 8s 20ms/step - loss: 3.6882 - accuracy: 0.2085 - val_loss: 2.2544 - val_accuracy: 0.2160\n",
      "Epoch 3/10\n",
      "375/375 [==============================] - 8s 21ms/step - loss: 4.1423 - accuracy: 0.2157 - val_loss: 2.6029 - val_accuracy: 0.1931\n",
      "Epoch 4/10\n",
      "375/375 [==============================] - 8s 20ms/step - loss: 2.8359 - accuracy: 0.2138 - val_loss: 2.3223 - val_accuracy: 0.2255\n",
      "Epoch 5/10\n",
      "375/375 [==============================] - 8s 21ms/step - loss: 2.4354 - accuracy: 0.2303 - val_loss: 10.7874 - val_accuracy: 0.2418\n",
      "Epoch 6/10\n",
      "375/375 [==============================] - 7s 20ms/step - loss: 2.7866 - accuracy: 0.2279 - val_loss: 2.0127 - val_accuracy: 0.2438\n",
      "Epoch 7/10\n",
      "375/375 [==============================] - 8s 20ms/step - loss: 2.4076 - accuracy: 0.2338 - val_loss: 2.4589 - val_accuracy: 0.2039\n",
      "Epoch 8/10\n",
      "375/375 [==============================] - 8s 20ms/step - loss: 2.5314 - accuracy: 0.2353 - val_loss: 2.0699 - val_accuracy: 0.2331\n",
      "Epoch 9/10\n",
      "375/375 [==============================] - 8s 20ms/step - loss: 2.5195 - accuracy: 0.2302 - val_loss: 2.1112 - val_accuracy: 0.2414\n",
      "Epoch 10/10\n",
      "375/375 [==============================] - 8s 20ms/step - loss: 2.5251 - accuracy: 0.2431 - val_loss: 4.6280 - val_accuracy: 0.2503\n"
     ]
    },
    {
     "data": {
      "text/plain": [
       "<keras.callbacks.History at 0x7f22498528b0>"
      ]
     },
     "execution_count": 5,
     "metadata": {},
     "output_type": "execute_result"
    }
   ],
   "source": [
    "(train_images, train_labels), _ = mnist.load_data()\n",
    "train_images = train_images.reshape((60000, 28*28))\n",
    "train_images = train_images.astype(\"float32\")/255\n",
    "\n",
    "model = keras.Sequential([\n",
    "    layers.Dense(512, activation=\"relu\"),\n",
    "    layers.Dense(512, activation=\"softmax\")\n",
    "])\n",
    "\n",
    "model.compile(optimizer=keras.optimizers.RMSprop(1.),\n",
    "             loss=\"sparse_categorical_crossentropy\",\n",
    "             metrics=[\"accuracy\"])\n",
    "\n",
    "model.fit(train_images, train_labels, epochs=10, batch_size=128, validation_split =0.2)\n",
    "\n",
    "# 이 모델은 30~40%이고 이를 넘어서지 못한다, lr을 1e-2로 낮춰보겠음"
   ]
  },
  {
   "cell_type": "markdown",
   "id": "a5ae290c",
   "metadata": {},
   "source": [
    "#### 코드 5-8 같은 모델을 적절한 학습률로 훈련하기\n",
    "\n",
    "이제 모델 훈련이 가능하다, 만약 또 발생하면 다음을 시도해볼수 있다. <br>\n",
    "- 학습률을 낮추거나 높인다 <br>\n",
    "- 배치 크기를 증가시킨다 <br>"
   ]
  },
  {
   "cell_type": "code",
   "execution_count": 6,
   "id": "3fce5bd4",
   "metadata": {},
   "outputs": [
    {
     "name": "stdout",
     "output_type": "stream",
     "text": [
      "Epoch 1/10\n",
      "375/375 [==============================] - 8s 21ms/step - loss: 0.3620 - accuracy: 0.9109 - val_loss: 0.1662 - val_accuracy: 0.9554\n",
      "Epoch 2/10\n",
      "375/375 [==============================] - 8s 20ms/step - loss: 0.1408 - accuracy: 0.9639 - val_loss: 0.1759 - val_accuracy: 0.9626\n",
      "Epoch 3/10\n",
      "375/375 [==============================] - 8s 21ms/step - loss: 0.1130 - accuracy: 0.9731 - val_loss: 0.2335 - val_accuracy: 0.9534\n",
      "Epoch 4/10\n",
      "375/375 [==============================] - 7s 20ms/step - loss: 0.0974 - accuracy: 0.9784 - val_loss: 0.2018 - val_accuracy: 0.9688\n",
      "Epoch 5/10\n",
      "375/375 [==============================] - 8s 20ms/step - loss: 0.0896 - accuracy: 0.9810 - val_loss: 0.2096 - val_accuracy: 0.9703\n",
      "Epoch 6/10\n",
      "375/375 [==============================] - 8s 21ms/step - loss: 0.0783 - accuracy: 0.9845 - val_loss: 0.2329 - val_accuracy: 0.9725\n",
      "Epoch 7/10\n",
      "375/375 [==============================] - 8s 20ms/step - loss: 0.0721 - accuracy: 0.9862 - val_loss: 0.2424 - val_accuracy: 0.9709\n",
      "Epoch 8/10\n",
      "375/375 [==============================] - 8s 20ms/step - loss: 0.0651 - accuracy: 0.9876 - val_loss: 0.2838 - val_accuracy: 0.9700\n",
      "Epoch 9/10\n",
      "375/375 [==============================] - 8s 20ms/step - loss: 0.0595 - accuracy: 0.9894 - val_loss: 0.3054 - val_accuracy: 0.9713\n",
      "Epoch 10/10\n",
      "375/375 [==============================] - 8s 20ms/step - loss: 0.0547 - accuracy: 0.9901 - val_loss: 0.3363 - val_accuracy: 0.9707\n"
     ]
    },
    {
     "data": {
      "text/plain": [
       "<keras.callbacks.History at 0x7f2249767610>"
      ]
     },
     "execution_count": 6,
     "metadata": {},
     "output_type": "execute_result"
    }
   ],
   "source": [
    "model = keras.Sequential([\n",
    "    layers.Dense(512, activation='relu'),\n",
    "    layers.Dense(512, activation='softmax'),\n",
    "])\n",
    "\n",
    "model.compile(optimizer=keras.optimizers.RMSprop(1e-2),\n",
    "             loss=\"sparse_categorical_crossentropy\",\n",
    "             metrics=[\"accuracy\"])\n",
    "model.fit(train_images, train_labels, epochs=10, batch_size=128, validation_split=0.2)"
   ]
  },
  {
   "cell_type": "markdown",
   "id": "67ed895c",
   "metadata": {},
   "source": [
    "### 5.3.2 구조에 대해 더 나은 가정하기 \n",
    "\n",
    "- 모델이 훈련되지만 어떤 이유에서인지 검증 지표가 전혀 나아지지 않는다. 즉, 모델이 훈련되지만 일반화되지 않는다. <br>\n",
    "최악의 머신러닝 상황: 몇가지 팁 <br>\n",
    "    1. 단순하게 입력 데이터에 타깃 예측을 위한 정보가 충분하지 않을 수 있음 <br>\n",
    "    2. 현재 사용하는 모델의 종류가 문제에 적합하지 않을 수 있음 <br>\n",
    "        - 위의 모델은 순환신경망이 더 적합, 일반화도 더 잘된다. <br>\n",
    "            즉, 구조에 대한 올바른 가정을 내려야 한다. <br>\n",
    "\n",
    "\n",
    "### 5.3.3 모델 용량 늘리기\n",
    "\n",
    "#### 코드 5-9 MNIST 데이터를 사용한 간단한 로지스틱 회귀 모델\n",
    "\n",
    "작은 모델, 간단한 logistic regression을 살펴보면"
   ]
  },
  {
   "cell_type": "code",
   "execution_count": 7,
   "id": "61540d27",
   "metadata": {},
   "outputs": [
    {
     "name": "stdout",
     "output_type": "stream",
     "text": [
      "Epoch 1/20\n",
      "375/375 [==============================] - 2s 3ms/step - loss: 0.6555 - accuracy: 0.8366 - val_loss: 0.3563 - val_accuracy: 0.9046\n",
      "Epoch 2/20\n",
      "375/375 [==============================] - 1s 2ms/step - loss: 0.3504 - accuracy: 0.9027 - val_loss: 0.3076 - val_accuracy: 0.9148\n",
      "Epoch 3/20\n",
      "375/375 [==============================] - 1s 2ms/step - loss: 0.3152 - accuracy: 0.9123 - val_loss: 0.2915 - val_accuracy: 0.9197\n",
      "Epoch 4/20\n",
      "375/375 [==============================] - 1s 2ms/step - loss: 0.2989 - accuracy: 0.9163 - val_loss: 0.2833 - val_accuracy: 0.9212\n",
      "Epoch 5/20\n",
      "375/375 [==============================] - 1s 2ms/step - loss: 0.2896 - accuracy: 0.9195 - val_loss: 0.2750 - val_accuracy: 0.9243\n",
      "Epoch 6/20\n",
      "375/375 [==============================] - 1s 2ms/step - loss: 0.2829 - accuracy: 0.9210 - val_loss: 0.2735 - val_accuracy: 0.9235\n",
      "Epoch 7/20\n",
      "375/375 [==============================] - 1s 2ms/step - loss: 0.2778 - accuracy: 0.9225 - val_loss: 0.2696 - val_accuracy: 0.9265\n",
      "Epoch 8/20\n",
      "375/375 [==============================] - 1s 2ms/step - loss: 0.2742 - accuracy: 0.9238 - val_loss: 0.2673 - val_accuracy: 0.9256\n",
      "Epoch 9/20\n",
      "375/375 [==============================] - 1s 3ms/step - loss: 0.2712 - accuracy: 0.9245 - val_loss: 0.2656 - val_accuracy: 0.9276\n",
      "Epoch 10/20\n",
      "375/375 [==============================] - 1s 2ms/step - loss: 0.2687 - accuracy: 0.9256 - val_loss: 0.2636 - val_accuracy: 0.9275\n",
      "Epoch 11/20\n",
      "375/375 [==============================] - 1s 2ms/step - loss: 0.2667 - accuracy: 0.9260 - val_loss: 0.2634 - val_accuracy: 0.9284\n",
      "Epoch 12/20\n",
      "375/375 [==============================] - 1s 2ms/step - loss: 0.2644 - accuracy: 0.9272 - val_loss: 0.2629 - val_accuracy: 0.9294\n",
      "Epoch 13/20\n",
      "375/375 [==============================] - 1s 3ms/step - loss: 0.2628 - accuracy: 0.9277 - val_loss: 0.2637 - val_accuracy: 0.9289\n",
      "Epoch 14/20\n",
      "375/375 [==============================] - 1s 2ms/step - loss: 0.2616 - accuracy: 0.9283 - val_loss: 0.2617 - val_accuracy: 0.9308\n",
      "Epoch 15/20\n",
      "375/375 [==============================] - 1s 2ms/step - loss: 0.2606 - accuracy: 0.9286 - val_loss: 0.2625 - val_accuracy: 0.9297\n",
      "Epoch 16/20\n",
      "375/375 [==============================] - 1s 2ms/step - loss: 0.2592 - accuracy: 0.9295 - val_loss: 0.2624 - val_accuracy: 0.9294\n",
      "Epoch 17/20\n",
      "375/375 [==============================] - 1s 2ms/step - loss: 0.2580 - accuracy: 0.9295 - val_loss: 0.2616 - val_accuracy: 0.9303\n",
      "Epoch 18/20\n",
      "375/375 [==============================] - 1s 3ms/step - loss: 0.2572 - accuracy: 0.9301 - val_loss: 0.2602 - val_accuracy: 0.9302\n",
      "Epoch 19/20\n",
      "375/375 [==============================] - 1s 2ms/step - loss: 0.2561 - accuracy: 0.9299 - val_loss: 0.2617 - val_accuracy: 0.9304\n",
      "Epoch 20/20\n",
      "375/375 [==============================] - 1s 2ms/step - loss: 0.2554 - accuracy: 0.9306 - val_loss: 0.2624 - val_accuracy: 0.9302\n"
     ]
    }
   ],
   "source": [
    "model = keras.Sequential([layers.Dense(10, activation=\"softmax\")])\n",
    "model.compile(optimizer='rmsprop',\n",
    "             loss='sparse_categorical_crossentropy',\n",
    "             metrics=['accuracy'])\n",
    "history_small_model = model.fit(\n",
    "    train_images, train_labels,\n",
    "    epochs=20, batch_size=128,\n",
    "    validation_split = 0.2\n",
    ")"
   ]
  },
  {
   "cell_type": "markdown",
   "id": "e2fccd0c",
   "metadata": {},
   "source": [
    "다음과 같은 손실 곡선을 얻을 수 있다. "
   ]
  },
  {
   "cell_type": "code",
   "execution_count": 8,
   "id": "b3d80f34",
   "metadata": {},
   "outputs": [
    {
     "data": {
      "image/png": "[encoded data removed]",
      "text/plain": [
       "<Figure size 432x288 with 1 Axes>"
      ]
     },
     "metadata": {
      "needs_background": "light"
     },
     "output_type": "display_data"
    }
   ],
   "source": [
    "import matplotlib.pyplot as plt \n",
    "\n",
    "val_loss = history_small_model.history[\"val_loss\"]\n",
    "epochs = range(1, 21)\n",
    "plt.plot(epochs, val_loss, \"b--\",\n",
    "        label=\"Validation loss\")\n",
    "plt.title(\"Effect of insufficient model capacity on validation loss\")\n",
    "plt.xlabel(\"Epochs\")\n",
    "plt.ylabel(\"Loss\")\n",
    "plt.legend()\n",
    "plt.show()\n",
    "\n",
    "# 과대적합할 수 없는 거서럼 보이다면 모델의 표현능력이 부족한 것,"
   ]
  },
  {
   "cell_type": "code",
   "execution_count": 10,
   "id": "be2d8e83",
   "metadata": {},
   "outputs": [
    {
     "name": "stdout",
     "output_type": "stream",
     "text": [
      "Epoch 1/20\n",
      "375/375 [==============================] - 2s 5ms/step - loss: 0.3579 - accuracy: 0.8985 - val_loss: 0.1992 - val_accuracy: 0.9409\n",
      "Epoch 2/20\n",
      "375/375 [==============================] - 2s 5ms/step - loss: 0.1619 - accuracy: 0.9521 - val_loss: 0.1388 - val_accuracy: 0.9583\n",
      "Epoch 3/20\n",
      "375/375 [==============================] - 2s 5ms/step - loss: 0.1132 - accuracy: 0.9659 - val_loss: 0.1277 - val_accuracy: 0.9590\n",
      "Epoch 4/20\n",
      "375/375 [==============================] - 2s 5ms/step - loss: 0.0870 - accuracy: 0.9735 - val_loss: 0.1024 - val_accuracy: 0.9679\n",
      "Epoch 5/20\n",
      "375/375 [==============================] - 2s 5ms/step - loss: 0.0705 - accuracy: 0.9783 - val_loss: 0.0948 - val_accuracy: 0.9709\n",
      "Epoch 6/20\n",
      "375/375 [==============================] - 2s 5ms/step - loss: 0.0568 - accuracy: 0.9828 - val_loss: 0.0934 - val_accuracy: 0.9728\n",
      "Epoch 7/20\n",
      "375/375 [==============================] - 2s 5ms/step - loss: 0.0472 - accuracy: 0.9856 - val_loss: 0.0958 - val_accuracy: 0.9723\n",
      "Epoch 8/20\n",
      "375/375 [==============================] - 2s 5ms/step - loss: 0.0402 - accuracy: 0.9875 - val_loss: 0.0926 - val_accuracy: 0.9728\n",
      "Epoch 9/20\n",
      "375/375 [==============================] - 2s 5ms/step - loss: 0.0334 - accuracy: 0.9895 - val_loss: 0.1003 - val_accuracy: 0.9726\n",
      "Epoch 10/20\n",
      "375/375 [==============================] - 2s 4ms/step - loss: 0.0281 - accuracy: 0.9910 - val_loss: 0.1000 - val_accuracy: 0.9747\n",
      "Epoch 11/20\n",
      "375/375 [==============================] - 2s 5ms/step - loss: 0.0242 - accuracy: 0.9925 - val_loss: 0.0924 - val_accuracy: 0.9766\n",
      "Epoch 12/20\n",
      "375/375 [==============================] - 2s 5ms/step - loss: 0.0202 - accuracy: 0.9939 - val_loss: 0.1016 - val_accuracy: 0.9761\n",
      "Epoch 13/20\n",
      "375/375 [==============================] - 2s 5ms/step - loss: 0.0163 - accuracy: 0.9951 - val_loss: 0.1071 - val_accuracy: 0.9736\n",
      "Epoch 14/20\n",
      "375/375 [==============================] - 2s 4ms/step - loss: 0.0145 - accuracy: 0.9954 - val_loss: 0.1150 - val_accuracy: 0.9746\n",
      "Epoch 15/20\n",
      "375/375 [==============================] - 2s 4ms/step - loss: 0.0127 - accuracy: 0.9962 - val_loss: 0.1128 - val_accuracy: 0.9754\n",
      "Epoch 16/20\n",
      "375/375 [==============================] - 2s 5ms/step - loss: 0.0104 - accuracy: 0.9968 - val_loss: 0.1196 - val_accuracy: 0.9736\n",
      "Epoch 17/20\n",
      "375/375 [==============================] - 2s 5ms/step - loss: 0.0097 - accuracy: 0.9971 - val_loss: 0.1257 - val_accuracy: 0.9743\n",
      "Epoch 18/20\n",
      "375/375 [==============================] - 2s 4ms/step - loss: 0.0083 - accuracy: 0.9973 - val_loss: 0.1271 - val_accuracy: 0.9748\n",
      "Epoch 19/20\n",
      "375/375 [==============================] - 2s 4ms/step - loss: 0.0072 - accuracy: 0.9978 - val_loss: 0.1290 - val_accuracy: 0.9736\n",
      "Epoch 20/20\n",
      "375/375 [==============================] - 2s 4ms/step - loss: 0.0055 - accuracy: 0.9981 - val_loss: 0.1488 - val_accuracy: 0.9742\n"
     ]
    }
   ],
   "source": [
    "# 96개의 유닛을 가진 2개의 중간층으로 구성되어 용량이 더 큰 모델을 훈련해 보죠.\n",
    "model = keras.Sequential([\n",
    "    layers.Dense(96, activation=\"relu\"),\n",
    "    layers.Dense(96, activation=\"relu\"),\n",
    "    layers.Dense(10, activation=\"softmax\"),\n",
    "])\n",
    "\n",
    "model.compile(optimizer=\"rmsprop\",\n",
    "             loss=\"sparse_categorical_crossentropy\",\n",
    "             metrics=['accuracy'])\n",
    "history_large_model = model.fit(\n",
    "    train_images, train_labels,\n",
    "    epochs=20, batch_size=128,\n",
    "    validation_split=0.2\n",
    ")"
   ]
  },
  {
   "cell_type": "markdown",
   "id": "d8b15068",
   "metadata": {},
   "source": [
    "## 5.4 일반화 성능 향상하기\n",
    "모델이 어느정도 일반화 성능을 갖고 과대적합할 수 있다면 이제 일반화를 극대화하는데 초점 <br>\n",
    "\n",
    "\n",
    "### 5.4.1 데이터셋 큐레이션\n",
    "- 데이터가 충분한지 확인 <br>\n",
    "- 레이블 할당 에러를 최소화한다 <br>\n",
    "- 데이터르 정제하고 누락된 값을 처리한다 <br>\n",
    "- 많은 특성중에서 어떤 것이 유용한지 확실하지 않다면 특성 서택을 할수 있ㄷ. <br>\n",
    "\n",
    "### 5.4.2 특성 공학(feature engineering)\n",
    "- 데이터와 머신 러닝 알고리즘에 관한 지식을 사용하는 단계 <br>\n",
    "- 딥러닝 이전에는 특성 공학이 머신 러닝 workflow에서 가장 중요한 부분, 전통적인 얕은 학습 방법의 알고리즘들은 스스로 유용한 특성을 학습할 만큼 충분히 넓은 가서 공간을 가지고 있지 않음, 따라서 알고리즘에 데이터를 표현하는 방식에 성공 여부가 달려 있음. <br>\n",
    "- 다행히 최신 딥러닝은 대부분 특성 공학이 필요하지 않다, 신경망이 자동으로 원본 데이터에서 유용한 특성을 추출할 수 있기 때문, 그렇다면 심층 신경망을 사용할떄는 특성 공학에 대해 신경쓰지 않아도 될까? No, Here's two reashons why. <br>\n",
    "    1. 좋은 특성은 적은 자원을 사용하여 문제를 더 멋지게 풀어낼 수 있다, 예를 들어 시계 바늘을 읽는 문제에 합성곱 신경망을 사용하는 것은 어울리지 않다. <br>\n",
    "    2. 좋은 특성은 더 적은 데이터로 문제를 풀 수 있다. 딥러닝 모델이 스스로 특성을 학습하는 능력은 가용한 훈련 데이터가 많을 떄 발휘된다. 샘플 개수가 적다면 특성에 있는 정보가 매우 중요해진다. <br>\n",
    "\n",
    "\n",
    "### 5.4.3 조기 종료 사용\n",
    "EarlyStopping 콜백을 사용\n",
    "\n",
    "\n",
    "### 5.4.4 모델 규제하기\n",
    "- 규제(regularization)기법은 훈련 데이터에 완벽하게 맞추려는 모델의 능력을 적극적으로 방해하는 일련의 모범 사례, 모델의 검증 점수를 향상시키는 것이 목적 <br>\n",
    "- 과대적합을 완화시키는 가장 간단한 방법은 모델크기(층의 수와 층에 있는 유닛개수로 결정되는 학습 가능한 파라미터 개수)를 줄이는 것, 너무 많은 용량과 충분하지 않은 용량 사이의 절충점을 찾아야함 <br>\n",
    "\n",
    "#### 코드 5-10 원본 모델"
   ]
  },
  {
   "cell_type": "code",
   "execution_count": null,
   "id": "9f2da39b",
   "metadata": {},
   "outputs": [
    {
     "name": "stdout",
     "output_type": "stream",
     "text": [
      "Epoch 1/20\n",
      "29/30 [============================>.] - ETA: 0s - loss: 0.5445 - accuracy: 0.5022"
     ]
    }
   ],
   "source": [
    "import numpy as np\n",
    "from tensorflow import keras\n",
    "from tensorflow.keras import layers\n",
    "from tensorflow.keras.datasets import imdb\n",
    "\n",
    "(train_data, train_labels), _ = imdb.load_data(num_words=10000)\n",
    "\n",
    "def vectorize_sequences(sequences, dimension=10000):\n",
    "    results = np.zeros((len(sequences), dimension))\n",
    "    for i, sequence in enumerate(sequences):\n",
    "        results[i, sequence] = 1.\n",
    "    return results\n",
    "\n",
    "train_data = vectorize_sequences(train_data)\n",
    "\n",
    "model = keras.Sequential([\n",
    "    layers.Dense(16, activation='relu'),\n",
    "    layers.Dense(16, activation='relu'),\n",
    "    layers.Dense(1, activation='softmax'),\n",
    "])\n",
    "\n",
    "model.compile(optimizer=\"rmsprop\",\n",
    "             loss=\"binary_crossentropy\",\n",
    "             metrics=[\"accuracy\"])\n",
    "\n",
    "history_original = model.fit(train_data, train_labels, epochs=20, batch_size=512, validation_split=0.4)"
   ]
  },
  {
   "cell_type": "code",
   "execution_count": null,
   "id": "b9f71828",
   "metadata": {},
   "outputs": [],
   "source": [
    "# 더 작은 모델로 바꿔보쟈\n",
    "model = keras.Sequential([\n",
    "    layers.Dense(4, activation='relu'),\n",
    "    layers.Dense(4, activation='relu'),\n",
    "    layers.Dense(1, activation='sigmoid'),\n",
    "])\n",
    "\n",
    "model.compile(optimizer='rmsprop',\n",
    "             loss='binary_crossentropy',\n",
    "             metrics=['accuracy'])\n",
    "\n",
    "history_smaller_model = model.fit(\n",
    "    train_data, train_labels, epochs=20, batch_size=512, validation_split=0.4\n",
    ")"
   ]
  },
  {
   "cell_type": "markdown",
   "id": "b1947084",
   "metadata": {},
   "source": [
    "- 4번째 epoch가 아니라 6번쨰 epoch 작은 모델이 기본 모델보다 더 나중에 과대적합되기 시작 <br>\n",
    "- 과대적합이 시작되었을 때 성능이 더 천천히 감소\n",
    "\n",
    "#### 코드 5-12 큰 용량의 모델"
   ]
  },
  {
   "cell_type": "code",
   "execution_count": null,
   "id": "73705db6",
   "metadata": {},
   "outputs": [],
   "source": [
    "model = keras.Sequential([\n",
    "    layers.Dense(512, activation='relu'),\n",
    "    layers.Dense(512, activation='relu'),\n",
    "    layers.Dense(1, activation='softmax'),\n",
    "])\n",
    "\n",
    "model.compile(optimizer='rmsprop',\n",
    "             loss='binary_crossentropy',\n",
    "             metrics=['accuracy'])\n",
    "history_larger_model = model.fit(\n",
    "    train_data, train_labels,\n",
    "    epochs=20, batch_size=512, validation_split=0.4\n",
    ")\n",
    "\n",
    "# 용량이 큰 모델은 첫번째 에포크 이후 거의 바로 과대적합이 시작되어 갈수록 더 심해진다, 검증 손실도 매우 불안정함, "
   ]
  },
  {
   "cell_type": "markdown",
   "id": "f34a62f2",
   "metadata": {},
   "source": [
    "#### 가중치 규제 추가\n",
    "\n",
    "'오캄의 면도날': 어떤 것에 대한 두가지의 설명이 있다면 더 적은 가정이 필요한 간단한 설명이 옳을 것이라는 이론 <br>\n",
    "\n",
    "가중치 규제(weight regularization)이라고 하며, 모델의 손실 함수에 큰 가중치에 연관된 비용을 추가 <br>\n",
    "- L1규제: 가중치의 절댓값에 비례하는 비용이 추가됨 (가중치의 L1노름(norm)) <br>\n",
    "- L2규제: 가중치의 제곱에 비례하는 비용이 추가됨(가중치의 L2노름(norm), L2규제는 신경망에서 가중치 감쇠(weight decay)라고도 부름. 이름이 다르지만 혼동하지 마셈, 가중치 감쇠는 수학적으로 L2규제와 동일 <br>\n",
    "\n",
    "#### 코드 5-13 모델에 L2 가중치 추가하기"
   ]
  },
  {
   "cell_type": "code",
   "execution_count": null,
   "id": "51413b0d",
   "metadata": {},
   "outputs": [],
   "source": [
    "from tensorflow.keras import regularizers\n",
    "\n",
    "model = keras.Sequential([\n",
    "    layers.Dense(16, kernel_regularizer = regularizers.l2(0.02),\n",
    "                activation='relu'),\n",
    "    layers.Dense(16, kernel_regularizer = regularizers.l2(0.02),\n",
    "                activation='relu'),\n",
    "    layers.Dense(1, activation='sigmoid')\n",
    "])\n",
    "\n",
    "model.compile(optimizer='rmsprop',\n",
    "             loss='binary_crossentropy',\n",
    "             metrics=['accuracy'])\n",
    "history_l2_reg = model.fit(\n",
    "    train_data, train_labels,\n",
    "    epochs=20, batch_size=512, validation_split =0.4\n",
    ")"
   ]
  },
  {
   "cell_type": "markdown",
   "id": "6ffc3af7",
   "metadata": {},
   "source": [
    "#### 코드 5-14 케라스에서 사용할 수 있는 가중치 규제"
   ]
  },
  {
   "cell_type": "code",
   "execution_count": null,
   "id": "1d7cebce",
   "metadata": {},
   "outputs": [],
   "source": [
    "from tensorflow.keras import regularizers\n",
    "\n",
    "regularizers.l1(0.001)  # ㅣ1규제\n",
    "regularizers.l1_l2(l1=0.001, l2 = 0.001)  # l1규제와 l2규제 병행"
   ]
  },
  {
   "cell_type": "markdown",
   "id": "a193dccd",
   "metadata": {},
   "source": [
    "#### 드롭아웃 추가 \n",
    "\n",
    "모델층에 드롭아웃을 적용하면 훈련하는 동안 무작위로 층의 출력 특성ㅇ르 일부 제외시킴(0으로 만듦)"
   ]
  },
  {
   "cell_type": "code",
   "execution_count": null,
   "id": "45ceab0b",
   "metadata": {},
   "outputs": [],
   "source": [
    "layer_output *= np.random.randint(0, high=2, size=layer_output.shape)  # 훈련할 때 유닛의 출력 중 50%를 버림\n",
    "layer_output *= 0.5  # 테스트 단계\n",
    "layer_output *= np.random.randint(0, high=2, size=layer_output.shape)  # 훈련 단계\n",
    "layer_output .= 0.5  # 여기에서 스케일을 낮추는 대신 높임"
   ]
  },
  {
   "cell_type": "markdown",
   "id": "8a9242cf",
   "metadata": {},
   "source": [
    "- 핵심 아이디어는 층의 출력값에 노이즈를 추가하여 중요하지 않은 우연한 패턴(힌틴이 이야기한 부정한 협업)을 깨뜨리는 것임\n",
    "- 노이즈가 없다면 모델이 이 패턴을 기억하기 시작할 것\n",
    "\n",
    "#### 코드 5-15 IMDB 모델에 드롭아웃 추가하기"
   ]
  },
  {
   "cell_type": "code",
   "execution_count": null,
   "id": "b39953cf",
   "metadata": {},
   "outputs": [],
   "source": [
    "model = keras.Sequential([\n",
    "    layers.Dense(16, activation='relu'),\n",
    "    layers.Dropout(0.5),\n",
    "    layers.Dense(16, activation='relu'),\n",
    "    layers.Dropout(0.5),\n",
    "    layers.Dense(1, activation='sigmoid')\n",
    "])\n",
    "\n",
    "model.compile(optimizer='rmsporp',\n",
    "             loss='binary_crossentropy',\n",
    "             metrics=['accuracy'])\n",
    "history_dropout = model.fit(\n",
    "    train_data, train_labels,\n",
    "    epochs=20, batch_size = 512, validation_split = 0.4\n",
    ")"
   ]
  },
  {
   "cell_type": "markdown",
   "id": "11ca4188",
   "metadata": {},
   "source": [
    "신경망에서 일반화 성능을 극대화하고 과대적합을 방지하기 위해 가장 널리 사용하는 방법은 다음과 같다.\n",
    "\n",
    "- 훈련 데이터를 더 모음, 또는 더 나은 데이터를 모음 <br>\n",
    "- 더 나은 특성을 개발 <br>\n",
    "- 네트워크의 용량을 감소 <br>\n",
    "- (작은 모델을 만들기 위해) 가중치 규제를 추가 <br>\n",
    "- 드롭아웃을 추가 <br>\n",
    "\n",
    "\n",
    "\n",
    "## 5.5 요약\n",
    "- 머신러닝 모델의 목적은 이전에 본 적 없는 입력에서 정확하게 동작하는 일반화 <br>\n",
    "- 심층 신경망은 훈련 샘플 사이를 성공적으로 보간 할 수 있는 모수 모델(parametric model)을 훈련하여 일반화를 달성, '잠재 매니폴드'를 학습해다고 말할 수 있음 <br>\n",
    "- 머신러닝의 근본적인 문제는 최적화와 일반화 사이의 줄다리기: 일반화를 달성하기 위해 먼저 훈련 데이터에 잘 맞추어야 하지만 훈련 데이터에 대한 성능 향상은 잠시 후 불가피하게 일반화를 저해함 <br>\n",
    "- 딥러닝 모델의 일반화 능력은 데이터의 잠재 매니폴드를 근사하는 방법을 학습하고 보간을 통해 새로운 입력을 이해할 수 있다는 사실에서 비롯됨 <br>\n",
    "- 모델을 개발하는 동안 모델의 일반화 능력을 정확하게 평가할 수 있어야 함. <br>\n",
    "- 모델을 구축하기 시작할 때 먼저 약간의 일반화 능력을 가지고 과대적합할 수 있느 모델을 만드는 것이 목표 <br>\n",
    "- 모델이 과대적합되기 시작할 떄 규제를 통해 일반화 성능을 향상시키도록 목표가 바뀜 <br>"
   ]
  },
  {
   "cell_type": "code",
   "execution_count": null,
   "id": "a199b0d4",
   "metadata": {},
   "outputs": [],
   "source": []
  },
  {
   "cell_type": "code",
   "execution_count": null,
   "id": "30539697",
   "metadata": {},
   "outputs": [],
   "source": []
  },
  {
   "cell_type": "code",
   "execution_count": null,
   "id": "9bd5beb7",
   "metadata": {},
   "outputs": [],
   "source": []
  },
  {
   "cell_type": "code",
   "execution_count": null,
   "id": "e57eb540",
   "metadata": {},
   "outputs": [],
   "source": []
  },
  {
   "cell_type": "code",
   "execution_count": null,
   "id": "f016be26",
   "metadata": {},
   "outputs": [],
   "source": []
  },
  {
   "cell_type": "code",
   "execution_count": null,
   "id": "9be0ec59",
   "metadata": {},
   "outputs": [],
   "source": []
  },
  {
   "cell_type": "code",
   "execution_count": null,
   "id": "3893a5fa",
   "metadata": {},
   "outputs": [],
   "source": []
  },
  {
   "cell_type": "code",
   "execution_count": null,
   "id": "8b7d7db2",
   "metadata": {},
   "outputs": [],
   "source": []
  },
  {
   "cell_type": "code",
   "execution_count": null,
   "id": "97a53f0a",
   "metadata": {},
   "outputs": [],
   "source": []
  },
  {
   "cell_type": "code",
   "execution_count": null,
   "id": "d07f6f67",
   "metadata": {},
   "outputs": [],
   "source": []
  },
  {
   "cell_type": "code",
   "execution_count": null,
   "id": "07a096e1",
   "metadata": {},
   "outputs": [],
   "source": []
  }
 ],
 "metadata": {
  "kernelspec": {
   "display_name": "Python 3 (ipykernel)",
   "language": "python",
   "name": "python3"
  },
  "language_info": {
   "codemirror_mode": {
    "name": "ipython",
    "version": 3
   },
   "file_extension": ".py",
   "mimetype": "text/x-python",
   "name": "python",
   "nbconvert_exporter": "python",
   "pygments_lexer": "ipython3",
   "version": "3.9.7"
  }
 },
 "nbformat": 4,
 "nbformat_minor": 5
}

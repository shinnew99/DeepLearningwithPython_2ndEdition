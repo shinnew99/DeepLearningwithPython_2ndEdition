{
 "cells": [
  {
   "cell_type": "markdown",
   "id": "95ca3ef0",
   "metadata": {},
   "source": [
    "## 3 Keras and Tensorflow\n",
    "\n",
    "3.1 텐서플로란? <br>\n",
    "3.2 케라스란? <br>\n",
    "3.3 케라스와 텐서플로의 간략한 역사 <br>\n",
    "3.4 딥러닝 작업 환경 설정하기 <br>\n",
    "3.5 텐서플로 시작하기 <br>\n",
    "3.6 신경망의 구조: 핵심 Keras API 이해하기 <br>\n",
    "3.7 요약 <br>"
   ]
  },
  {
   "cell_type": "markdown",
   "id": "f71bf412",
   "metadata": {},
   "source": [
    "### 3.1 텐서플로란?\n",
    "\n",
    "무료오픈소스머신러닝플랫폼"
   ]
  },
  {
   "cell_type": "markdown",
   "id": "b15028b8",
   "metadata": {},
   "source": [
    "### 3.2 케라스란?\n",
    "\n",
    "딥러닝 개발: 층, 모델, 옵티마이저, 손실, 측정 지표 등 <br>\n",
    "TensorFlow(인프라): 텐서, 변수, 자동 미분, 분산등 <br>\n",
    "하드웨어 실행"
   ]
  },
  {
   "cell_type": "markdown",
   "id": "18c6efb8",
   "metadata": {},
   "source": [
    "### 3.3 케라스와 텐서플로의 간략한 역사\n",
    "\n",
    "그렇데요"
   ]
  },
  {
   "cell_type": "markdown",
   "id": "dbfb1b38",
   "metadata": {},
   "source": [
    "### 3.4 딥러닝 작언 환경 설정하기\n",
    "\n",
    "#### 3.4.1 주피터 노트북\n",
    "#### 3.4.2 코랩\n",
    "GPU 런타임 사용가능"
   ]
  },
  {
   "cell_type": "markdown",
   "id": "19560683",
   "metadata": {},
   "source": [
    "#### 3.5 텐서플로 시작하기\n",
    "\n",
    "1. 저수준의 텐서 연산 가능 <br>\n",
    "    - 덧셈, relu, matmul같은 텐서연산 <br>\n",
    "    - gradient를 계산하는 방법인 역전파(텐서플로의 GradientTape 객체를 통해 처리됨)\n",
    "2. 고수준 딥러닝 개념, 이는 Keras API로 변환\n",
    "    - 모델을 구성하는 <b>층</b> <br>\n",
    "    - 학습에 사용하는 피드백 신호를 정의하는 <b>손실함수</b> <br>\n",
    "    - 학습진행방법을 결정하는 <b>옵티마이저</b> <br>\n",
    "    - 정확도처럼 모델의 성능을 평가하는 <b>측정지표</b> <br>\n",
    "    - 미니 배치 확률적 경사 하강법을 수행하는 <b>훈련루프</b> <br>\n",
    "    \n",
    "#### 3.5.1 상수 텐서와 변수\n",
    "#### 코드 3-1 모두 1또는 0인 텐서"
   ]
  },
  {
   "cell_type": "code",
   "execution_count": 3,
   "id": "aa829677",
   "metadata": {},
   "outputs": [
    {
     "name": "stdout",
     "output_type": "stream",
     "text": [
      "tf.Tensor(\n",
      "[[1.]\n",
      " [1.]], shape=(2, 1), dtype=float32)\n",
      "tf.Tensor(\n",
      "[[0.]\n",
      " [0.]], shape=(2, 1), dtype=float32)\n"
     ]
    }
   ],
   "source": [
    "import tensorflow as tf\n",
    "\n",
    "x1 = tf.ones(shape=(2,1))  # np.ones(shape=(2,1))과 동일\n",
    "print(x1)\n",
    "\n",
    "x2 = tf.zeros(shape=(2,1)) # np.zeros(shape=(2,1))과 동일\n",
    "print(x2)"
   ]
  },
  {
   "cell_type": "markdown",
   "id": "8615571a",
   "metadata": {},
   "source": [
    "#### 코드 3-2 랜덤 텐서"
   ]
  },
  {
   "cell_type": "code",
   "execution_count": 4,
   "id": "040e183c",
   "metadata": {},
   "outputs": [
    {
     "name": "stdout",
     "output_type": "stream",
     "text": [
      "tf.Tensor(\n",
      "[[ 1.0854167 ]\n",
      " [-0.8479837 ]\n",
      " [ 0.18908162]], shape=(3, 1), dtype=float32)\n",
      "tf.Tensor(\n",
      "[[0.03751421]\n",
      " [0.10825074]\n",
      " [0.8742385 ]], shape=(3, 1), dtype=float32)\n"
     ]
    }
   ],
   "source": [
    "x1 = tf.random.normal(shape=(3,1), mean=0., stddev=1.)\n",
    "# 평균이 0이고 표편이 1인 정규분포(normal distribution)에서 뽑은 랜덤한 값으로 만든 텐서. \n",
    "print(x1)  # np.random.normal(size=(3,1), loc=0., scale=1.)과 같음\n",
    "\n",
    "x2 = tf.random.uniform(shape=(3,1), minval=0., maxval=1.)\n",
    "# 0과 1사이의 균등분포(uniform distribution)에서 뽑은 랜덤한 값으로 만든 텐서.\n",
    "print(x2) # np.random.uniform(size=(3,1), low=0., high=1.)과 같음"
   ]
  },
  {
   "cell_type": "markdown",
   "id": "5c7548cc",
   "metadata": {},
   "source": [
    "#### 코드 3-3 넘파이 배열에 값 할당하기"
   ]
  },
  {
   "cell_type": "code",
   "execution_count": 5,
   "id": "4e1d3981",
   "metadata": {},
   "outputs": [],
   "source": [
    "import numpy as np\n",
    "\n",
    "x = np.ones(shape=(2,2))\n",
    "x[0,0] = 0."
   ]
  },
  {
   "cell_type": "markdown",
   "id": "06aae3cb",
   "metadata": {},
   "source": [
    "#### 코드 3-4 텐서플로 텐서에 값을 할당하지 못함"
   ]
  },
  {
   "cell_type": "code",
   "execution_count": 6,
   "id": "fe009e02",
   "metadata": {},
   "outputs": [
    {
     "ename": "TypeError",
     "evalue": "'tensorflow.python.framework.ops.EagerTensor' object does not support item assignment",
     "output_type": "error",
     "traceback": [
      "\u001b[0;31m---------------------------------------------------------------------------\u001b[0m",
      "\u001b[0;31mTypeError\u001b[0m                                 Traceback (most recent call last)",
      "\u001b[0;32m/tmp/ipykernel_165/2644984843.py\u001b[0m in \u001b[0;36m<module>\u001b[0;34m\u001b[0m\n\u001b[1;32m      1\u001b[0m \u001b[0mx\u001b[0m \u001b[0;34m=\u001b[0m \u001b[0mtf\u001b[0m\u001b[0;34m.\u001b[0m\u001b[0mones\u001b[0m\u001b[0;34m(\u001b[0m\u001b[0mshape\u001b[0m\u001b[0;34m=\u001b[0m\u001b[0;34m(\u001b[0m\u001b[0;36m2\u001b[0m\u001b[0;34m,\u001b[0m\u001b[0;36m2\u001b[0m\u001b[0;34m)\u001b[0m\u001b[0;34m)\u001b[0m\u001b[0;34m\u001b[0m\u001b[0;34m\u001b[0m\u001b[0m\n\u001b[0;32m----> 2\u001b[0;31m \u001b[0mx\u001b[0m\u001b[0;34m[\u001b[0m\u001b[0;36m0\u001b[0m\u001b[0;34m,\u001b[0m\u001b[0;36m0\u001b[0m\u001b[0;34m]\u001b[0m \u001b[0;34m=\u001b[0m \u001b[0;36m0.\u001b[0m\u001b[0;34m\u001b[0m\u001b[0;34m\u001b[0m\u001b[0m\n\u001b[0m",
      "\u001b[0;31mTypeError\u001b[0m: 'tensorflow.python.framework.ops.EagerTensor' object does not support item assignment"
     ]
    }
   ],
   "source": [
    "x = tf.ones(shape=(2,2))\n",
    "x[0,0] = 0. \n",
    "# 텐서에는 값을 할당할 수 없기 떄문에 에러가 발생\n",
    "# 따라서 이런 값들을 '변수'에 저장함"
   ]
  },
  {
   "cell_type": "markdown",
   "id": "72d5fb84",
   "metadata": {},
   "source": [
    "#### 코드 3-5 텐서플로 변수 만들기 "
   ]
  },
  {
   "cell_type": "code",
   "execution_count": 9,
   "id": "6a3ef1fc",
   "metadata": {},
   "outputs": [
    {
     "name": "stdout",
     "output_type": "stream",
     "text": [
      "<tf.Variable 'Variable:0' shape=(3, 1) dtype=float32, numpy=\n",
      "array([[0.5878663 ],\n",
      "       [0.72772795],\n",
      "       [0.06780359]], dtype=float32)>\n"
     ]
    }
   ],
   "source": [
    "v = tf.Variable(initial_value = tf.random.normal(shape=(3,1)))\n",
    "print(v)"
   ]
  },
  {
   "cell_type": "markdown",
   "id": "9d18761f",
   "metadata": {},
   "source": [
    "#### 코드 3-6 텐서플로 변수에 값 할당하기"
   ]
  },
  {
   "cell_type": "code",
   "execution_count": 11,
   "id": "ad8d1899",
   "metadata": {},
   "outputs": [
    {
     "data": {
      "text/plain": [
       "<tf.Variable 'UnreadVariable' shape=(3, 1) dtype=float32, numpy=\n",
       "array([[1.],\n",
       "       [1.],\n",
       "       [1.]], dtype=float32)>"
      ]
     },
     "execution_count": 11,
     "metadata": {},
     "output_type": "execute_result"
    }
   ],
   "source": [
    "# assign으로 수정 가능 \n",
    "v.assign(tf.ones((3,1)))"
   ]
  },
  {
   "cell_type": "markdown",
   "id": "61a2731a",
   "metadata": {},
   "source": [
    "#### 코드 3-7 변수 일부에 값 할당하기 "
   ]
  },
  {
   "cell_type": "code",
   "execution_count": 12,
   "id": "25ba02ff",
   "metadata": {},
   "outputs": [
    {
     "data": {
      "text/plain": [
       "<tf.Variable 'UnreadVariable' shape=(3, 1) dtype=float32, numpy=\n",
       "array([[3.],\n",
       "       [1.],\n",
       "       [1.]], dtype=float32)>"
      ]
     },
     "execution_count": 12,
     "metadata": {},
     "output_type": "execute_result"
    }
   ],
   "source": [
    "v[0,0].assign(3.)"
   ]
  },
  {
   "cell_type": "markdown",
   "id": "a690efc2",
   "metadata": {},
   "source": [
    "#### 코드 3-8 assign_add() 사용하기 "
   ]
  },
  {
   "cell_type": "code",
   "execution_count": 15,
   "id": "3ac53790",
   "metadata": {},
   "outputs": [
    {
     "data": {
      "text/plain": [
       "<tf.Variable 'UnreadVariable' shape=(3, 1) dtype=float32, numpy=\n",
       "array([[4.],\n",
       "       [2.],\n",
       "       [2.]], dtype=float32)>"
      ]
     },
     "execution_count": 15,
     "metadata": {},
     "output_type": "execute_result"
    }
   ],
   "source": [
    "v.assign_add(tf.ones((3,1)))\n",
    "\n",
    "# assign_add()와 assign_sub()은 각각 +=, -=와 동일"
   ]
  },
  {
   "cell_type": "markdown",
   "id": "b9b90dbb",
   "metadata": {},
   "source": [
    "#### 3.5.2 텐서 연산: 텐서플로에서 수학 계산하기\n",
    "\n",
    "#### 코드 3-9 기본적인 수학 연산"
   ]
  },
  {
   "cell_type": "code",
   "execution_count": 17,
   "id": "68f50833",
   "metadata": {},
   "outputs": [],
   "source": [
    "a = tf.ones((2,2))\n",
    "b = tf.square(a)  # 제곱을 계산\n",
    "c = tf.sqrt(a) # 제곱근을 계산\n",
    "d = b+c # 두 텐서를 더한다(원소별 연산)\n",
    "e = tf.matmul(a, b)  # 두 텐서의 점곱을 계산\n",
    "e *= d  # 두 텐서를 곱함(원소별 연산)\n",
    "\n",
    "# 앞의 연산이 모두 바로 실행된다"
   ]
  },
  {
   "cell_type": "markdown",
   "id": "b8e52cff",
   "metadata": {},
   "source": [
    "#### 3.5.3 GradientTape API 다시 살펴보기\n",
    "\n",
    "#### 코드 3-10 GradientTape 사용"
   ]
  },
  {
   "cell_type": "code",
   "execution_count": 18,
   "id": "0d984e3c",
   "metadata": {},
   "outputs": [],
   "source": [
    "input_var = tf.Variable(initial_value=3.)\n",
    "with tf.GradientTape() as tape:\n",
    "    result = tf.square(input_var)\n",
    "gradient = tape.gradient(result, input_var)  # 가중치에 대한 모델 손실의 gradient를 계산하는데 가장 널리 사용되는 방법"
   ]
  },
  {
   "cell_type": "markdown",
   "id": "7a1701d4",
   "metadata": {},
   "source": [
    "#### 코드 3-11 상수 텐서 입력과 함께 GradientTape 사용하기"
   ]
  },
  {
   "cell_type": "code",
   "execution_count": 20,
   "id": "091f87b1",
   "metadata": {},
   "outputs": [],
   "source": [
    "input_const = tf.constant(3.)\n",
    "with tf.GradientTape() as tape:\n",
    "    tape.watch(input_const)\n",
    "    result = tf.square(input_const)\n",
    "gradient = tape.gradient(result, input_const)"
   ]
  },
  {
   "cell_type": "markdown",
   "id": "68206f8c",
   "metadata": {},
   "source": [
    "#### 코드 3-12 Gradient를 Tape로 중첩하여 이계도 gradient 계산하기\n",
    "\n",
    "물체의 위치의 gradient는 속도, second-order, 여시거는 중첩된 gradient는 가속도"
   ]
  },
  {
   "cell_type": "code",
   "execution_count": 8,
   "id": "8a85de1c",
   "metadata": {},
   "outputs": [
    {
     "name": "stdout",
     "output_type": "stream",
     "text": [
      "<tf.Variable 'Variable:0' shape=() dtype=float32, numpy=0.0>\n",
      "tf.Tensor(0.0, shape=(), dtype=float32)\n"
     ]
    }
   ],
   "source": [
    "import tensorflow as tf\n",
    "time1 = tf.Variable(0.)\n",
    "print(time1)\n",
    "\n",
    "with tf.GradientTape() as inner_tape:\n",
    "    position = 4.9*time1**2\n",
    "speed = inner_tape.gradient(position, time1)\n",
    "print(speed)"
   ]
  },
  {
   "cell_type": "code",
   "execution_count": 13,
   "id": "2cc97201",
   "metadata": {},
   "outputs": [
    {
     "name": "stdout",
     "output_type": "stream",
     "text": [
      "1st speed: tf.Tensor(0.0, shape=(), dtype=float32)\n",
      "2st speed: tf.Tensor(0.0, shape=(), dtype=float32)\n",
      "tf.Tensor(9.8, shape=(), dtype=float32)\n"
     ]
    }
   ],
   "source": [
    "time = tf.Variable(0.)\n",
    "with tf.GradientTape() as outer_tape:\n",
    "    with tf.GradientTape() as inner_tape:\n",
    "        position = 4.9*time**2\n",
    "    speed = inner_tape.gradient(position, time)\n",
    "    print(\"1st speed:\", speed)\n",
    "acceleration = outer_tape.gradient(speed, time) # 바깥쪽 테이프가 안쪽 테이프의 gradient를 계산, 계산된 가속도는 4.9*2 = 9.8\n",
    "print(\"2st speed:\", speed)\n",
    "print(acceleration)"
   ]
  },
  {
   "cell_type": "markdown",
   "id": "d2d62e23",
   "metadata": {},
   "source": [
    "#### 3.5.4 end-to-end 예제: 텐서플로 선형 분류기 \n",
    "\n",
    "텐서플로 선형분류기: 선형적으로 잘 구분되는 합성 데이터를 만든다고 할때, \n",
    "- 2D 평면의 포인트로 2개의 클래스를 가지게 만든다. <br>\n",
    "- 평균과 공분산 행렬(covariance matrix)를 가진 랜덤한 분포에서 좌표값을 뽑아 각 클래스의 포인트를 생성 <br>"
   ]
  },
  {
   "cell_type": "markdown",
   "id": "bf058192",
   "metadata": {},
   "source": [
    "#### 코드 3-13 2D 평면에 두 클래스의 랜덤한 포인트 생성하기"
   ]
  },
  {
   "cell_type": "code",
   "execution_count": 28,
   "id": "51c5047d",
   "metadata": {},
   "outputs": [],
   "source": [
    "num_samples_per_class = 1000\n",
    "negative_samples = np.random.multivariate_normal(\n",
    "    mean = [0,3],\n",
    "    cov = [[1, 0.5], [0.5, 1]],\n",
    "    size = num_samples_per_class\n",
    ")\n",
    "positive_samples = np.random.multivariate_normal(\n",
    "    mean = [3,0],\n",
    "    cov = [[1, 0.5], [0.5, 1]],\n",
    "    size = num_samples_per_class\n",
    ")"
   ]
  },
  {
   "cell_type": "markdown",
   "id": "3e3d6bd3",
   "metadata": {},
   "source": [
    "#### 코드 3-14 두 클래스를 (2000, 2) 크기의 한 배열로 쌓기"
   ]
  },
  {
   "cell_type": "code",
   "execution_count": 29,
   "id": "075b74ec",
   "metadata": {},
   "outputs": [],
   "source": [
    "inputs = np.vstack((negative_samples, positive_samples)).astype(np.float32)"
   ]
  },
  {
   "cell_type": "markdown",
   "id": "73f78716",
   "metadata": {},
   "source": [
    "#### 코드 3-15 (0과 1로 구성된) 타깃 생성하기"
   ]
  },
  {
   "cell_type": "code",
   "execution_count": 30,
   "id": "a03eff63",
   "metadata": {},
   "outputs": [],
   "source": [
    "targets = np.vstack((np.zeros((num_samples_per_class, 1), dtype=\"float32\"),\n",
    "                      np.ones((num_samples_per_class, 1), dtype=\"float32\")))"
   ]
  },
  {
   "cell_type": "markdown",
   "id": "15caa4d6",
   "metadata": {},
   "source": [
    "#### 코드 3-16 두 클래스의 포인트를 그래프로 그리기 (그림 3-6)"
   ]
  },
  {
   "cell_type": "code",
   "execution_count": 31,
   "id": "4ab4fbf7",
   "metadata": {},
   "outputs": [
    {
     "data": {
      "image/png": "[encoded data removed]",
      "text/plain": [
       "<Figure size 432x288 with 1 Axes>"
      ]
     },
     "metadata": {
      "needs_background": "light"
     },
     "output_type": "display_data"
    }
   ],
   "source": [
    "import matplotlib.pyplot as plt\n",
    "\n",
    "plt.scatter(inputs[:, 0], inputs[:, 1], c=targets[:, 0])\n",
    "plt.show()\n",
    "\n",
    "# 아핀 변환(prediction = W•input +b)\n",
    "# 예측과 타깃 사이의 차이를 제곱한 값을 최소화하도록 훈련"
   ]
  },
  {
   "cell_type": "markdown",
   "id": "eea09b71",
   "metadata": {},
   "source": [
    "#### 코드 3-17 선형 분류기의 변수 만들기"
   ]
  },
  {
   "cell_type": "code",
   "execution_count": 32,
   "id": "57581cc9",
   "metadata": {},
   "outputs": [],
   "source": [
    "input_dim = 2  # 입력은 2D포인트\n",
    "output_dim = 1  # 출력 예측은 샘플당 하나의 점수(0에 가까우면 샘플을 클래스 0으로 예측하고, 1에 가까우면 클래스1 로 예측)\n",
    "W = tf.Variable(initial_value = tf.random.uniform(shape=(input_dim, output_dim)))\n",
    "b = tf.Variable(initial_value = tf.zeros(shape=(output_dim)))"
   ]
  },
  {
   "cell_type": "markdown",
   "id": "bee1eacb",
   "metadata": {},
   "source": [
    "#### 코드 3-18 정방향 패스 함수"
   ]
  },
  {
   "cell_type": "code",
   "execution_count": 33,
   "id": "6f0bea34",
   "metadata": {},
   "outputs": [],
   "source": [
    "def model(inputs):\n",
    "    return tf.matmul(inputs, W)+b\n",
    "# W = [[w1], [w2]], 반면 b는 하나으 스칼라 값\n",
    "# prediction = [[w1], [w2] • [x, y]+b] = w1*x + w2*y+b"
   ]
  },
  {
   "cell_type": "markdown",
   "id": "1d03d5ec",
   "metadata": {},
   "source": [
    "#### 코드 3-19 평균 제곱 오차 손실 함수"
   ]
  },
  {
   "cell_type": "code",
   "execution_count": 34,
   "id": "0e27b54b",
   "metadata": {},
   "outputs": [],
   "source": [
    "def square_loss(targets, predictions):  # per_sample_losses는 targets나 predictions와 크기가 같은 텐서이며 각 샘플의 손실 값을 담고 있다.\n",
    "    per_sample_losses = tf.square(targets-predictions)\n",
    "    return tf.reduce_mean(per_sample_losses)  # 샘플당 손실 값을 하나의 스칼라 손실 값으로 평균, reduce_mean 함수가 이런 작업을 수행"
   ]
  },
  {
   "cell_type": "markdown",
   "id": "91e98f7b",
   "metadata": {},
   "source": [
    "#### 코드 3-20 훈련 스텝 함수"
   ]
  },
  {
   "cell_type": "code",
   "execution_count": 35,
   "id": "254aec66",
   "metadata": {},
   "outputs": [],
   "source": [
    "learning_rate = 0.1\n",
    "def training_step(inputs, targets):\n",
    "    with tf.GradientTape() as tape:\n",
    "        predictions = model(inputs)\n",
    "        loss = square_loss(targets, predictions) # gradientTape 블록 안의 정방향 패스\n",
    "    grad_loss_wrt_W, grad_loss_wrt_b = tape.gradient(loss, [W, b])  # 가중치에 대한 손실의 gradient를 구함\n",
    "    W.assign_sub(grad_loss_wrt_W*learning_rate)  # 가중치를 업데이트\n",
    "    b.assign_sub(grad_loss_wrt_b*learning_rate)\n",
    "    return loss"
   ]
  },
  {
   "cell_type": "markdown",
   "id": "c7f7e5ea",
   "metadata": {},
   "source": [
    "#### 코드 3-21 배치 훈련 루프"
   ]
  },
  {
   "cell_type": "code",
   "execution_count": 39,
   "id": "f2f1da30",
   "metadata": {
    "scrolled": true
   },
   "outputs": [
    {
     "name": "stdout",
     "output_type": "stream",
     "text": [
      "0번째 스텝의 손실: 0.0250\n",
      "1번째 스텝의 손실: 0.0250\n",
      "2번째 스텝의 손실: 0.0250\n",
      "3번째 스텝의 손실: 0.0250\n",
      "4번째 스텝의 손실: 0.0250\n",
      "5번째 스텝의 손실: 0.0250\n",
      "6번째 스텝의 손실: 0.0250\n",
      "7번째 스텝의 손실: 0.0250\n",
      "8번째 스텝의 손실: 0.0250\n",
      "9번째 스텝의 손실: 0.0250\n",
      "10번째 스텝의 손실: 0.0250\n",
      "11번째 스텝의 손실: 0.0250\n",
      "12번째 스텝의 손실: 0.0250\n",
      "13번째 스텝의 손실: 0.0250\n",
      "14번째 스텝의 손실: 0.0250\n",
      "15번째 스텝의 손실: 0.0250\n",
      "16번째 스텝의 손실: 0.0250\n",
      "17번째 스텝의 손실: 0.0250\n",
      "18번째 스텝의 손실: 0.0250\n",
      "19번째 스텝의 손실: 0.0250\n",
      "20번째 스텝의 손실: 0.0250\n",
      "21번째 스텝의 손실: 0.0250\n",
      "22번째 스텝의 손실: 0.0250\n",
      "23번째 스텝의 손실: 0.0250\n",
      "24번째 스텝의 손실: 0.0250\n",
      "25번째 스텝의 손실: 0.0250\n",
      "26번째 스텝의 손실: 0.0250\n",
      "27번째 스텝의 손실: 0.0250\n",
      "28번째 스텝의 손실: 0.0250\n",
      "29번째 스텝의 손실: 0.0250\n",
      "30번째 스텝의 손실: 0.0250\n",
      "31번째 스텝의 손실: 0.0250\n",
      "32번째 스텝의 손실: 0.0250\n",
      "33번째 스텝의 손실: 0.0250\n",
      "34번째 스텝의 손실: 0.0250\n",
      "35번째 스텝의 손실: 0.0250\n",
      "36번째 스텝의 손실: 0.0250\n",
      "37번째 스텝의 손실: 0.0250\n",
      "38번째 스텝의 손실: 0.0250\n",
      "39번째 스텝의 손실: 0.0250\n",
      "40번째 스텝의 손실: 0.0250\n"
     ]
    }
   ],
   "source": [
    "for step in range(41):\n",
    "    loss = training_step(inputs, targets)\n",
    "    print(f\"{step}번째 스텝의 손실: {loss:.4f}\")\n",
    "    \n",
    "    \n",
    "# 40번째 epoch에서 0.25로 안정화됨, 40번째 epoch 보려고 range를 41로 잡음"
   ]
  },
  {
   "cell_type": "code",
   "execution_count": 40,
   "id": "f8decce6",
   "metadata": {},
   "outputs": [
    {
     "data": {
      "image/png": "[encoded data removed]",
      "text/plain": [
       "<Figure size 432x288 with 1 Axes>"
      ]
     },
     "metadata": {
      "needs_background": "light"
     },
     "output_type": "display_data"
    }
   ],
   "source": [
    "predictions = model(inputs)\n",
    "plt.scatter(inputs[:, 0], inputs[:,1], c=predictions[:, 0] >0.5)\n",
    "plt.show()\n",
    "\n",
    "\n",
    "# prediction == [[w1], [w2] • [x,y] + b == w1*x + w2*y+ b]\n",
    "# prediction 값이 <0.5 이면 클래스 0, >0.5 이면 클래스 1\n",
    "# y = a*x + b  \n",
    "# y = -w1/w2*x+(0.5-b)/w2"
   ]
  },
  {
   "cell_type": "markdown",
   "id": "309ac7e4",
   "metadata": {},
   "source": [
    "y = $ \\frac{-w1*x+ (0.5-b)}{w2} $ <br>\n",
    "w1x + w2y + b = 0.5 <br>\n",
    "\n",
    "정리해보면 두 식이 같음이 성립된다"
   ]
  },
  {
   "cell_type": "code",
   "execution_count": 43,
   "id": "c8191f86",
   "metadata": {},
   "outputs": [
    {
     "data": {
      "image/png": "[encoded data removed]",
      "text/plain": [
       "<Figure size 432x288 with 1 Axes>"
      ]
     },
     "metadata": {
      "needs_background": "light"
     },
     "output_type": "display_data"
    }
   ],
   "source": [
    "x = np.linspace(-1, 4, 100)  # 직선을 그리기 위해 -1~4 사이에 일정한 간격을 가진 100개의 숫자를 생성\n",
    "y = -W[0]/W[1] * x + (0.5-b)/W[1]  # 사용할 직선의 방정식\n",
    "plt.plot(x, y, \"-r\") # 가운데 빨간 직선을 그어줌\n",
    "plt.scatter(inputs[:,0], inputs[:,1], c=predictions[:, 0]>0.5)  # 동일한 그래프에 모델의 예측을 나타냄\n",
    "plt.show()"
   ]
  },
  {
   "cell_type": "markdown",
   "id": "54fd71e7",
   "metadata": {},
   "source": [
    "### 3.6 신경망의 구조: 핵심 Keras API 이해하기\n",
    "\n",
    "#### 3.6.1 층: 딥러닝의 구성 요소\n",
    "\n",
    "- 층(layer): 하나 이상의 텐서를 입력으로 받고 하나 이상의 텐서를 출력하는 데이터 처리 모듈, 어떤 종류의 층은 상태가 없지만 대부분의 경우 가중치(weight)라는 층의 상태를 가진다. <br>\n",
    "- 밀집연결층(densely connected layer)로 처리함, 완전연결층(fully connected layer) or 밀집층(dense layer)라고도 부름 <br>\n",
    "    - ex) (samples, timesteps, features) 크기의 Rank3 텐서에 저장된 시퀀스 데이터는 일반적으로 LSTM 같은 순환층(Recurrent Layer)이나 1D합성곱 (Conv1D)으로 처리 <br>\n",
    "    - Rank4 Tensor에 저장된 이미지 데이터는 보통 2D합성곱층(Conv2D)으로 처리 <br>"
   ]
  },
  {
   "cell_type": "markdown",
   "id": "1057206e",
   "metadata": {},
   "source": [
    "#### 코드 3-22 Layer의 Subclass로 구현한 Dense층"
   ]
  },
  {
   "cell_type": "code",
   "execution_count": 45,
   "id": "26bdebf8",
   "metadata": {},
   "outputs": [],
   "source": [
    "from tensorflow import keras\n",
    "\n",
    "class SimpleDense(keras.layers.Layer):   # 모든 keras층은 Layer class를 상속\n",
    "    def __init__(self, units, activation=None):\n",
    "        super().__init__()\n",
    "        self.units = units\n",
    "        self.activation = activation\n",
    "    def build(self, input_shape):  # build() 메서드에서 가중치를 생성\n",
    "        input_dim = input_shape[-1]\n",
    "        self.W = self.add_weight(shape=(input_dim, self.units),  #  add _weight()는 가중치를 간편하게 만드는 메서드\n",
    "                                initializer=\"random_normal\")  \n",
    "        # self.W = tf.Variable(tf.random.uniform(w_shape))와 같이 독립적으로 변수를 생성하고 층의 속성으로 할당 할 수도 있음\n",
    "        self.b = self.add_weight(shape=(self.units),\n",
    "                                initializer= \"zeros\")\n",
    "    def call(self, inputs): # call() 메서드에서 정방향 패스 계산을 정의\n",
    "        y = tf.matmul(inputs, self.W) + self.b\n",
    "        if self.activation is not None:\n",
    "            y = self.activation(y)\n",
    "        return y"
   ]
  },
  {
   "cell_type": "code",
   "execution_count": 46,
   "id": "1ac606cc",
   "metadata": {},
   "outputs": [
    {
     "name": "stdout",
     "output_type": "stream",
     "text": [
      "(2, 32)\n"
     ]
    }
   ],
   "source": [
    "# 클래스의 인서턴스를 생성하면 텐서플로 텐서를 입력을 받는 함수처럼 사용할 수 있음\n",
    "my_dense = SimpleDense(units=32, activation = tf.nn.relu)  # 앞서 정의한 층의 인스턴스를 만듦\n",
    "input_tensor = tf.ones(shape=(2, 784)) # test입력을 만듦\n",
    "output_tensor = my_dense(input_tensor)\n",
    "print(output_tensor.shape)"
   ]
  },
  {
   "cell_type": "markdown",
   "id": "584c92db",
   "metadata": {},
   "source": [
    "#### 자동 크기 추론: 동적으로 층 만들기"
   ]
  },
  {
   "cell_type": "code",
   "execution_count": 48,
   "id": "b368afc4",
   "metadata": {},
   "outputs": [],
   "source": [
    "from tensorflow.keras import layers\n",
    "layer = layers.Dense(32, activation='relu')"
   ]
  },
  {
   "cell_type": "code",
   "execution_count": 49,
   "id": "e8d537d5",
   "metadata": {},
   "outputs": [],
   "source": [
    "from tensorflow.keras import models\n",
    "from tensorflow.keras import layers\n",
    "\n",
    "model = models.Sequential([\n",
    "    layers.Dense(32, activation='relu'),\n",
    "    layers.Dense(32)\n",
    "])\n",
    "\n",
    "# 이 모델에서의 층은 입력 크기에 대해 어떤 정보도 없음"
   ]
  },
  {
   "cell_type": "code",
   "execution_count": null,
   "id": "c81548b8",
   "metadata": {},
   "outputs": [],
   "source": [
    "# 따라서 위 모델은 이상적이지 않음, 실행하게 되면 다음과 같은 모델이 만들어지게 되버림\n",
    "model = NaiveSequential([\n",
    "    NaiveDense(input_size=784, output_size = 32, activation=\"relu\"),\n",
    "    NaiveDense(input_size=32, output_size = 32, activation=\"relu\"),\n",
    "    NaiveDense(input_size=64, output_size = 32, activation=\"relu\"),\n",
    "    NaiveDense(input_size=32, output_size = 32, activation=\"softmax\")\n",
    "])\n",
    "\n",
    "# 이게 왜 문제냐면, 출력을 만드는 층의 규칙이 복잡하며 문제는 더 심각해짐.\n",
    "# ex, 층이 (batch, input_size*2 if input_size%2 == 0 else input_size*3)크기의 출력을 반환한다면?"
   ]
  },
  {
   "cell_type": "code",
   "execution_count": 58,
   "id": "5785c40d",
   "metadata": {},
   "outputs": [],
   "source": [
    "def __call__(self, inputs):\n",
    "    if not self.built:\n",
    "        self.build(inputs.shape)\n",
    "        self.built = True\n",
    "    return self.call(inputs)"
   ]
  },
  {
   "cell_type": "code",
   "execution_count": 59,
   "id": "c56571d9",
   "metadata": {},
   "outputs": [],
   "source": [
    "model = keras.Sequential([\n",
    "    SimpleDense(32, activation=\"relu\"),\n",
    "    SimpleDense(64, activation=\"relu\"),\n",
    "    SimpleDense(32, activation=\"relu\"),\n",
    "    SimpleDense(10, activation=\"softmax\")\n",
    "])"
   ]
  },
  {
   "cell_type": "markdown",
   "id": "d8b2721d",
   "metadata": {},
   "source": [
    "#### 3.6.2 층에서 모델로 \n",
    "\n",
    "Sequential 모델은 단순치 층을 쌓은 것이고 하나의 입력을 하나의 출력에 mapping <br>\n",
    "네트워크에 자주 등장하는 구조 <br>\n",
    "- 2개의 가지(two-branch)를 가진 network <br>\n",
    "- multihead network <br>\n",
    "- residual network <br>\n",
    "보통 서브클래스를 만들거나 API를 사용 <br><br>\n",
    "\n",
    "모델 순서) <br>\n",
    "모델의 구조는 가설공간(hypothesis space)를 정의 <br>\n",
    "   <pre>↓ <br> </pre>\n",
    "입력 데이터를 출력 데이터로 매핑하는 일련의 특정한 텐서 연산으로 제한 <br>\n",
    "   <pre>↓ <br> </pre>\n",
    "데이터에 대한 가정, 시작할때 모델이 가지게 될 사전 지식을 인코딩 <br>\n",
    "   <pre>↓ <br> </pre>\n",
    "원하는 결과를 얻을때까지 모델을 어떻게 조정할지 gogo"
   ]
  },
  {
   "cell_type": "markdown",
   "id": "0d514cc8",
   "metadata": {},
   "source": [
    "#### 3.6.3 '컴파일' 단계: 학습 과정 설정\n",
    "\n",
    "모델 구조르 정의하고 난 후 다음 3가지를 더 선택 <br>\n",
    "- 손실함수(loss function) = 목적함수(objective function): 훈련 과정에서 최소화할 값, 현재 작업에 대한 성공의 척도 <br>\n",
    "- 옵티마이저(optimizer): 손실 함수를 기반으로 네트워크가 어떻게 업데이트 될지 결정, 특정 종류의 확류적 경사 하강법(SGD)로 구현 <br>\n",
    "- 측정 지표(metric): 훈련과 검증 과정에서 모니터링할 성공의 척도 <br>"
   ]
  },
  {
   "cell_type": "code",
   "execution_count": 60,
   "id": "f6eec6ee",
   "metadata": {},
   "outputs": [],
   "source": [
    "# ex) 보통 이렇게 생겨 먹음\n",
    "model = keras.Sequential([keras.layers.Dense(1)]) # 선형 분류기를 정의\n",
    "model.compile(optimizer = \"rmsprop\",  # 대, 소문자를 구분하지 않음 \n",
    "             loss = \"mean_squared_error\", # 손실 이름을 평균 제곱 오차로 지정\n",
    "             metrics=[\"accuracy\"]) #측정 자료를 리스트로 지정, 여기에서는 정확도만 사용\n",
    "\n",
    "# or 매개변수를 인스턴스 객체로 지정할 수도 있음\n",
    "model.compile(optimizer = keras.optimizers.RMSprop(),\n",
    "             loss = keras.losses.MeanSquaredError(),\n",
    "             metrics = [keras.metrics.BinaryAccuracy()])\n",
    "\n",
    "# model.compile(optimzer = keras.optimizers.RMSprop(learning_rate=1e-4),\n",
    "#             loss = my_custom_loss,\n",
    "#             metrics = [my_custom_metric_1, my_custom_metric_2])"
   ]
  },
  {
   "cell_type": "markdown",
   "id": "bca6f0ad",
   "metadata": {},
   "source": [
    "<b>옵티마이저 Optimizer:</b> <br>\n",
    "    - SGD (모멘텀 선택가능) <br>\n",
    "    - RMSprop <br>\n",
    "    - Adam <br>\n",
    "    - Adagrad <br>\n",
    "    - 그 외 <br><br>\n",
    "    \n",
    "<b>손실:</b> <br>\n",
    "    - CategoricalCrossentropy: 여러개의 클래스가 있는 분류 문제에서는 범주형 분류 <br>\n",
    "    - SparseCategoricalCrossentropy <br>\n",
    "    - BinaryCrossentropy: for 이진분류 <br>\n",
    "    - MeanSquaredError <br>\n",
    "    - KLDivergence <br>\n",
    "    - CosineSimilarity <br>\n",
    "    - 그 외: 완전히 새로운 연구를 할때만 자신만의 손실 함수르 만들게 될것임 <br><br>\n",
    "\n",
    "<b>측정 지표:</b> <br>\n",
    "    - CategoricalAccuracy <br>\n",
    "    - SparseCategoricalAccuracy <br>\n",
    "    - BinaryAccuracy <br>\n",
    "    - AUC <br>\n",
    "    - Precision <br>\n",
    "    - 그 외 <br>"
   ]
  },
  {
   "cell_type": "markdown",
   "id": "a1eb9d6d",
   "metadata": {},
   "source": [
    "#### 3.6.4 손실 함수 선택하기\n",
    "\n",
    "서술어로 설명하기 귀찮으니 위에 설명을 달겠음"
   ]
  },
  {
   "cell_type": "markdown",
   "id": "7a4af085",
   "metadata": {},
   "source": [
    "#### 3.6.5 fit() 메서드 이해하기\n",
    "\n",
    "- 훈련할 데이터(입력과 타깃): Dataset 객체로 전달<br>\n",
    "- 훈련할 에포크(epoch) 횟수: 전달한 데이터에서 훈련 루프를 몇 번이나 반복할지 알려줌 <br>\n",
    "- 미니배치 경사 하강법의 각 에포크에서 사용할 배치 크기: 가중치 업데이트 단계에서 gradient를 계산하는데 사용될 훈련 샘플 개수<br>"
   ]
  },
  {
   "cell_type": "markdown",
   "id": "cb81ea74",
   "metadata": {},
   "source": [
    "#### 코드 3-23 넘파이 데이터로 fit() 메서드 호출하기"
   ]
  },
  {
   "cell_type": "code",
   "execution_count": 61,
   "id": "dc8351ef",
   "metadata": {},
   "outputs": [
    {
     "name": "stdout",
     "output_type": "stream",
     "text": [
      "Epoch 1/5\n",
      "16/16 [==============================] - 0s 1ms/step - loss: 17.7592 - binary_accuracy: 0.5220\n",
      "Epoch 2/5\n",
      "16/16 [==============================] - 0s 1ms/step - loss: 17.0750 - binary_accuracy: 0.5225\n",
      "Epoch 3/5\n",
      "16/16 [==============================] - 0s 1ms/step - loss: 16.4974 - binary_accuracy: 0.5225\n",
      "Epoch 4/5\n",
      "16/16 [==============================] - 0s 1ms/step - loss: 15.9432 - binary_accuracy: 0.5225\n",
      "Epoch 5/5\n",
      "16/16 [==============================] - 0s 1ms/step - loss: 15.3956 - binary_accuracy: 0.5230\n"
     ]
    }
   ],
   "source": [
    "history = model.fit(\n",
    "    inputs,  # 입력샘플(넘파이 배열)\n",
    "    targets, # 훈련 타깃(넘파이 배열)\n",
    "    epochs=5, # 이 데이터에서 훈련 뤂를 5번 반복\n",
    "    batch_size = 128  # 훈련루프는 128개의 샘플 배치로 이 데이터를 순회\n",
    ")"
   ]
  },
  {
   "cell_type": "code",
   "execution_count": null,
   "id": "7befa679",
   "metadata": {},
   "outputs": [],
   "source": [
    "history = model.fit(\n",
    "    inputs,  #\n",
    "    targets, #\n",
    "    epochs=5, #\n",
    "    batch_size = 128   #\n",
    ")"
   ]
  },
  {
   "cell_type": "code",
   "execution_count": 62,
   "id": "64cb8b5e",
   "metadata": {},
   "outputs": [
    {
     "data": {
      "text/plain": [
       "{'loss': [17.759170532226562,\n",
       "  17.074989318847656,\n",
       "  16.4974422454834,\n",
       "  15.943191528320312,\n",
       "  15.395644187927246],\n",
       " 'binary_accuracy': [0.5220000147819519,\n",
       "  0.5224999785423279,\n",
       "  0.5224999785423279,\n",
       "  0.5224999785423279,\n",
       "  0.5230000019073486]}"
      ]
     },
     "execution_count": 62,
     "metadata": {},
     "output_type": "execute_result"
    }
   ],
   "source": [
    "history.history"
   ]
  },
  {
   "cell_type": "markdown",
   "id": "3ddf439b",
   "metadata": {},
   "source": [
    "#### 3.6.6 검증 데이터에서 손실과 측정 지표 모니터링하기\n",
    "\n",
    "머신러닝의 목표는 범용적으로 잘 작동하는 모델을 얻는 것! <br>\n",
    "새로운 데이터에 모델이 어떻게 동작하는지 예상하기 위해 훈련 데이터의 일부를 검증데이터(validation data)로 떼어 놓는 것이 표준적인 방법 <br>\n",
    "\n",
    "#### 코드 3-24 validation_data 매개변수 사용하기"
   ]
  },
  {
   "cell_type": "code",
   "execution_count": 65,
   "id": "8d6eaa8c",
   "metadata": {},
   "outputs": [
    {
     "name": "stdout",
     "output_type": "stream",
     "text": [
      "Epoch 1/5\n",
      "88/88 [==============================] - 1s 3ms/step - loss: 0.1331 - binary_accuracy: 0.9636 - val_loss: 0.0334 - val_binary_accuracy: 0.9883\n",
      "Epoch 2/5\n",
      "88/88 [==============================] - 0s 2ms/step - loss: 0.0689 - binary_accuracy: 0.9679 - val_loss: 0.1043 - val_binary_accuracy: 0.9667\n",
      "Epoch 3/5\n",
      "88/88 [==============================] - 0s 2ms/step - loss: 0.0753 - binary_accuracy: 0.9421 - val_loss: 0.0800 - val_binary_accuracy: 0.9350\n",
      "Epoch 4/5\n",
      "88/88 [==============================] - 0s 2ms/step - loss: 0.0701 - binary_accuracy: 0.9629 - val_loss: 0.1219 - val_binary_accuracy: 0.9150\n",
      "Epoch 5/5\n",
      "88/88 [==============================] - 0s 2ms/step - loss: 0.0747 - binary_accuracy: 0.9557 - val_loss: 0.0330 - val_binary_accuracy: 0.9883\n"
     ]
    },
    {
     "data": {
      "text/plain": [
       "<keras.callbacks.History at 0x7ff8724c0700>"
      ]
     },
     "execution_count": 65,
     "metadata": {},
     "output_type": "execute_result"
    }
   ],
   "source": [
    "model = keras.Sequential([keras.layers.Dense(1)])\n",
    "# model = keras.Sequential([\n",
    "#     SimpleDense(32, activation=\"relu\"),\n",
    "#     SimpleDense(64, activation=\"relu\"),\n",
    "#     SimpleDense(32, activation=\"relu\"),\n",
    "#     SimpleDense(10, activation=\"softmax\")\n",
    "# ])\n",
    "model.compile(optimizer = keras.optimizers.RMSprop(learning_rate=0.1),\n",
    "             loss = keras.losses.MeanSquaredError(),\n",
    "             metrics=[keras.metrics.BinaryAccuracy()])\n",
    "\n",
    "\n",
    "# 검증 데이터에 한 클래스의 샘플만 포함되는 것을 막기 위해 랜덤하게 생성한 인덱스를 사용해서 입력과 타깃을 섞는다.\n",
    "indices_permutation = np.random.permutation(len(inputs))  \n",
    "shuffled_inputs = inputs[indices_permutation]\n",
    "shuffled_targets = targets[indices_permutation]\n",
    "\n",
    "# 훈련 입력과 타깃의 30%를 검증용으로 떼어 놓는다. (검증 손실과 측정 지표 계산을 위해 훈련 데이터에서 이 샘플을 제외시켜 따로 보관)\n",
    "num_validation_samples = int(0.3*len(inputs))\n",
    "val_inputs = shuffled_inputs[:num_validation_samples]\n",
    "val_targets = shuffled_targets[:num_validation_samples]\n",
    "training_inputs = shuffled_inputs[num_validation_samples:]\n",
    "training_targets = shuffled_targets[num_validation_samples:]\n",
    "\n",
    "model.fit(\n",
    "    training_inputs,  # 훈련 데이터는 모델의 가중치를 업데이트하는데 사용됨\n",
    "    training_targets, # 여기도\n",
    "    epochs=5,\n",
    "    batch_size=16,\n",
    "    validation_data=(val_inputs, val_targets)  # 검증데이터는 검증손실과 측정 지표를 모니터링하는데만 사용\n",
    "    # 검증 데이터의 손실값은 검증손실이라고 부름.\n",
    ")"
   ]
  },
  {
   "cell_type": "markdown",
   "id": "91a74536",
   "metadata": {},
   "source": [
    "#### 3.6.7 추론: 훈련한 모델 사용하기\n",
    "\n",
    "추론(inference): 모델을 훈련하고 나면 이 모델을 사용하여 새로운 데이터에서 예측을 만들게 됨 "
   ]
  },
  {
   "cell_type": "code",
   "execution_count": 66,
   "id": "0e1f7699",
   "metadata": {},
   "outputs": [
    {
     "name": "stdout",
     "output_type": "stream",
     "text": [
      "[[0.40360206]\n",
      " [1.0008351 ]\n",
      " [0.88761955]\n",
      " [1.100294  ]\n",
      " [0.25899673]\n",
      " [0.22082275]\n",
      " [0.43225223]\n",
      " [0.2742893 ]\n",
      " [0.18339625]\n",
      " [0.9437031 ]]\n"
     ]
    }
   ],
   "source": [
    "# predictions = model(new_inputs)  # 넘파이 배열이나 tensorflow 텐서를 받고 텐서플로 텐서를 반환합니다.\n",
    "# predictions = model.predict(new_inputs, batch_size = 128) # Numpy 배열이나 Dataset 객체를 받고 넘파이 배열을 반환\n",
    "predictions = model.predict(val_inputs, batch_size=128)\n",
    "print(predictions[:10])"
   ]
  },
  {
   "cell_type": "markdown",
   "id": "a2ee4630",
   "metadata": {},
   "source": [
    "### 3.7 요약\n",
    "\n",
    "\n",
    "- tensorflow의 핵심 객체는 텐서, 변수, 텐서 연산, gradientTape <br>\n",
    "- kears의 핵심 클래스는 Layer, 층은 가중치와 연산을 캡슐화, 이런 층을 조합하여 모델을 만듦 <br>\n",
    "- 모델을 룬련하기 전에 optimizer, loss, 측정 지표를 선택하여 model.compile() 메서드에 지정 <br>\n",
    "- 미니 배치 경사 하강법을 실행하는 fit() 메서드로 모델을 훈련할 수 있음 <br>\n",
    "- 모델을 훈련하고 나면 model.predcit() 메서드를 사용하여 새로운 입력에 대한 예측을 만듦 <br>"
   ]
  }
 ],
 "metadata": {
  "kernelspec": {
   "display_name": "Python 3 (ipykernel)",
   "language": "python",
   "name": "python3"
  },
  "language_info": {
   "codemirror_mode": {
    "name": "ipython",
    "version": 3
   },
   "file_extension": ".py",
   "mimetype": "text/x-python",
   "name": "python",
   "nbconvert_exporter": "python",
   "pygments_lexer": "ipython3",
   "version": "3.9.7"
  }
 },
 "nbformat": 4,
 "nbformat_minor": 5
}
